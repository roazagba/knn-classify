{
 "cells": [
  {
   "cell_type": "markdown",
   "id": "eda59d26-8064-4876-8fb8-8508f8be83af",
   "metadata": {},
   "source": [
    "#### Importation de la bibliothèque pandas pour la manipulation et l'analyse des données"
   ]
  },
  {
   "cell_type": "code",
   "execution_count": null,
   "id": "91b1badf-2e18-420e-8534-730e70a0c1c8",
   "metadata": {},
   "outputs": [],
   "source": [
    "import pandas as pd\n",
    "import numpy as np"
   ]
  },
  {
   "cell_type": "markdown",
   "id": "cc348d7c-8dca-4ba6-83a4-adb74fdd641b",
   "metadata": {},
   "source": [
    "#### Chargement des données séparées par un point-virgule depuis un fichier CSV"
   ]
  },
  {
   "cell_type": "code",
   "execution_count": null,
   "id": "514ab189-3d78-48b1-b9b5-05942ced6ea0",
   "metadata": {},
   "outputs": [],
   "source": [
    "data = pd.read_csv('dataset_100_donnees.csv', delimiter=\";\")"
   ]
  },
  {
   "cell_type": "markdown",
   "id": "6388ec59-d0fb-49b2-aa27-e8f786d0e42e",
   "metadata": {},
   "source": [
    "#### Affichage d'un aperçu des 5 premières lignes du DataFrame pour s'assurer que les données sont correctement chargées"
   ]
  },
  {
   "cell_type": "code",
   "execution_count": null,
   "id": "abb309a7-0dd6-4d46-a9c1-a03b9a36beaf",
   "metadata": {},
   "outputs": [],
   "source": [
    "data.head()"
   ]
  },
  {
   "cell_type": "markdown",
   "id": "e3cb434f-4f9e-4c27-b17b-21110da21e40",
   "metadata": {},
   "source": [
    "#### Extraction et sélection des données en fonction des colonnes **Taille** et **Poids** comme variables prédictives (X) et **Admission** comme variable cible (Y)\n"
   ]
  },
  {
   "cell_type": "code",
   "execution_count": null,
   "id": "b0b7e9ab-0ef5-4ea7-9994-2c9c627213e0",
   "metadata": {},
   "outputs": [],
   "source": [
    "X = data[['Taille (cm)', 'Poids (kg)']]\n",
    "Y = data['Admission']"
   ]
  },
  {
   "cell_type": "markdown",
   "id": "eff6fef7-0cb9-437f-9d77-0bfe51685dc0",
   "metadata": {},
   "source": [
    "#### Importation de la bibliothèque scikit-klearn"
   ]
  },
  {
   "cell_type": "code",
   "execution_count": null,
   "id": "7caada90-afb2-4924-8170-b16bd99135ee",
   "metadata": {},
   "outputs": [],
   "source": [
    "from sklearn.model_selection import train_test_split\n",
    "from sklearn.neighbors import KNeighborsClassifier\n",
    "from sklearn.metrics import accuracy_score, classification_report, confusion_matrix, ConfusionMatrixDisplay\n",
    "from sklearn.preprocessing import StandardScaler\n",
    "import time"
   ]
  },
  {
   "cell_type": "markdown",
   "id": "8daacd56-31f0-4736-ae59-814cbd2c14d1",
   "metadata": {},
   "source": [
    "#### Séparation des données en un ensemble de données d'entraînement et de test (20% de données pour le test et 80% pour l'entrainement)"
   ]
  },
  {
   "cell_type": "code",
   "execution_count": null,
   "id": "6dd9b51e-3c1c-411a-91fb-2b6dc134d9e2",
   "metadata": {},
   "outputs": [],
   "source": [
    "X_train, X_test, Y_train, Y_test = train_test_split(X, Y, test_size=0.2, random_state=42)"
   ]
  },
  {
   "cell_type": "markdown",
   "id": "77016d0c-b137-43c3-ba63-c58c6c95a647",
   "metadata": {},
   "source": [
    "#### Affichage du graphique (nuage de points) de l'ensemble de données d'entrainement"
   ]
  },
  {
   "cell_type": "code",
   "execution_count": null,
   "id": "ab84f360-dbe6-440e-aa9c-819d1aa4b3da",
   "metadata": {},
   "outputs": [],
   "source": [
    "import matplotlib.pyplot as plt\n",
    "import seaborn as sns\n",
    "\n",
    "palette_color = {\"Admis\": \"green\", \"Refusé\": \"red\"}\n",
    "\n",
    "sns.scatterplot(x=X_train[\"Taille (cm)\"], y=X_train[\"Poids (kg)\"], hue=Y_train, palette=palette_color)\n",
    "\n",
    "plt.show()"
   ]
  },
  {
   "cell_type": "markdown",
   "id": "ae028496-8ad2-47bd-8621-9d919e1eecf6",
   "metadata": {},
   "source": [
    "#### Normalisation des données"
   ]
  },
  {
   "cell_type": "code",
   "execution_count": null,
   "id": "6f0072c6-87ce-416d-8ae4-b8dbd91252ae",
   "metadata": {},
   "outputs": [],
   "source": [
    "'''scaler = StandardScaler()\n",
    "X_train = scaler.fit_transform(X_train)\n",
    "X_test = scaler.transform(X_test)'''"
   ]
  },
  {
   "cell_type": "markdown",
   "id": "4d59e477-2eac-47a1-918a-7d50a9f5abdb",
   "metadata": {},
   "source": [
    "#### Choix automatique du k optimal en considérant le taux d'erreur le plus faible"
   ]
  },
  {
   "cell_type": "code",
   "execution_count": null,
   "id": "356f30b4-3970-43d7-949b-215ca4856f86",
   "metadata": {},
   "outputs": [],
   "source": [
    "k_values = range(1, min(len(X_train), 500))\n",
    "error_rates = []\n",
    "\n",
    "for k in k_values:\n",
    "    knn = KNeighborsClassifier(n_neighbors=k)\n",
    "    knn.fit(X_train, Y_train)\n",
    "    Y_pred = knn.predict(X_test)\n",
    "    error_rate = 1 - accuracy_score(Y_test, Y_pred)\n",
    "    error_rates.append(error_rate)\n",
    "\n",
    "best_k = np.argmin(error_rates) + 1\n",
    "best_error_rate = error_rates[best_k - 1]\n",
    "\n",
    "print(f'Le meilleur k est {best_k} avec un taux d\\'erreur de {best_error_rate:.4f}')\n",
    "\n",
    "plt.plot(k_values, error_rates, marker='o')\n",
    "plt.xlabel('Valeur de k')\n",
    "plt.ylabel('Taux d\\'erreur')\n",
    "plt.title('Taux d\\'erreur en fonction de k')\n",
    "\n",
    "plt.axvline(x=best_k, color='green', linestyle='--', label=f'k optimal = {best_k}')\n",
    "plt.legend()\n",
    "plt.show()"
   ]
  },
  {
   "cell_type": "markdown",
   "id": "a2355fa6-8df3-4654-a118-629f4a0e3fa9",
   "metadata": {},
   "source": [
    "#### Initialisation de classificateur KNN grâce au choix du k voisins plus proche et Entraînement du modèle à partir des données d'entraînement"
   ]
  },
  {
   "cell_type": "code",
   "execution_count": null,
   "id": "7e0908b1-7ee2-4ca7-8b4d-4cf9a4a680f8",
   "metadata": {},
   "outputs": [],
   "source": [
    "start_time = time.time()\n",
    "best_knn = KNeighborsClassifier(n_neighbors=best_k)\n",
    "best_knn.fit(X_train, Y_train)\n",
    "end_time = time.time()\n",
    "\n",
    "training_time = end_time - start_time\n",
    "print(f\"Temps d'entraînement : {training_time} secondes\")"
   ]
  },
  {
   "cell_type": "markdown",
   "id": "7cff89ff-28e5-447f-876e-d6128f483ad3",
   "metadata": {},
   "source": [
    "#### Prédiction des étiquettes pour les données de test"
   ]
  },
  {
   "cell_type": "code",
   "execution_count": null,
   "id": "120216e6-4f71-4e11-aadb-e456a0c68ffe",
   "metadata": {},
   "outputs": [],
   "source": [
    "predictions = best_knn.predict(X_test)\n",
    "\n",
    "print(\"Prédictions pour les données de test :\")\n",
    "for i, prediction in enumerate(predictions):\n",
    "    print(f\"Candidat {i+1} : {prediction}\")"
   ]
  },
  {
   "cell_type": "markdown",
   "id": "78c87b84-97ec-4132-b688-133a90449644",
   "metadata": {},
   "source": [
    "#### Matrice de confusion"
   ]
  },
  {
   "cell_type": "code",
   "execution_count": null,
   "id": "73a11b05-a3b9-4720-a587-f0f6b5ea83f5",
   "metadata": {},
   "outputs": [],
   "source": [
    "classes = list(set(Y_test.values))\n",
    "cm = confusion_matrix(Y_test, predictions, labels=classes)\n",
    "cm_display = ConfusionMatrixDisplay(confusion_matrix = cm, display_labels=classes)\n",
    "\n",
    "cm_display.plot()\n",
    "plt.title('Matrice de confusion')\n",
    "plt.show()"
   ]
  },
  {
   "cell_type": "markdown",
   "id": "15e14096-8d0f-4b5d-b841-a18ea7596049",
   "metadata": {},
   "source": [
    "#### Affichage du rapport de classification"
   ]
  },
  {
   "cell_type": "code",
   "execution_count": null,
   "id": "fc108d62-4c00-4795-841a-b5490ec09e1c",
   "metadata": {},
   "outputs": [],
   "source": [
    "print(\"Rapport de classification\")\n",
    "print(classification_report(Y_test, predictions))\n",
    "\n",
    "test_data = pd.DataFrame(X_test, columns=['Taille (cm)', 'Poids (kg)'])\n",
    "test_data['Admission'] = Y_test\n",
    "\n",
    "print(\"Les données de test et leur étiquette sont :\")\n",
    "print(test_data)"
   ]
  },
  {
   "cell_type": "markdown",
   "id": "3b862038-2b49-4fdc-adf2-d00c40c49c1a",
   "metadata": {},
   "source": [
    "#### Nouvelle donnée du candidat à prédire"
   ]
  },
  {
   "cell_type": "code",
   "execution_count": null,
   "id": "7059d6f3-60ce-4fe8-a32c-4bd58652cd0c",
   "metadata": {},
   "outputs": [],
   "source": [
    "print(\"Entrez les données du nouveau candidat à prédire :\\n\\n\")\n",
    "new_data = {}\n",
    "new_data_dup = {}\n",
    "\n",
    "for i, column in enumerate(X.columns):\n",
    "    value = float(input(f\"Entrez la valeur de {column} : \"))\n",
    "    new_data[column] = [value]\n",
    "    new_data_dup[column] = [value]\n",
    "    \n",
    "new_data[\"Admission\"] = [\"A prédire\"]"
   ]
  },
  {
   "cell_type": "markdown",
   "id": "13570eba-223a-4e05-9336-7d60aca0902b",
   "metadata": {},
   "source": [
    "#### Affichage du graphique (nuage de points) de l'ensemble de données d'entrainement et des nouvelles données X du candidat à prédire"
   ]
  },
  {
   "cell_type": "code",
   "execution_count": null,
   "id": "8afcf823-3567-4e9c-90bd-4af02f9ae3f6",
   "metadata": {},
   "outputs": [],
   "source": [
    "palette_color2 = {\"Admis\": \"green\", \"Refusé\": \"red\", \"A prédire\": \"black\"}\n",
    "\n",
    "sns.scatterplot(x=X_train[\"Taille (cm)\"], y=X_train[\"Poids (kg)\"], hue=Y_train, palette=palette_color2)\n",
    "plt.scatter(new_data[\"Taille (cm)\"], new_data[\"Poids (kg)\"], color=palette_color2[\"A prédire\"], marker=\"x\", label=\"A prédire\")\n",
    "plt.legend()\n",
    "plt.show()\n"
   ]
  },
  {
   "cell_type": "markdown",
   "id": "6fba0d11-324b-470b-b7ba-674b23b73052",
   "metadata": {},
   "source": [
    "#### Création d'un DataFrame à partir des nouvelles données pour la prédiction"
   ]
  },
  {
   "cell_type": "code",
   "execution_count": null,
   "id": "f8dcf55a-1d6e-415a-929a-41866c080493",
   "metadata": {},
   "outputs": [],
   "source": [
    "new_df = pd.DataFrame(new_data_dup)"
   ]
  },
  {
   "cell_type": "markdown",
   "id": "1522de2a-788c-408e-bfbb-f98f71927756",
   "metadata": {},
   "source": [
    "#### Prédiction pour les nouvelles données"
   ]
  },
  {
   "cell_type": "code",
   "execution_count": null,
   "id": "a47d919d-9dd9-4293-829c-2686437abff6",
   "metadata": {},
   "outputs": [],
   "source": [
    "# formater l'affichage des données taille et poids\n",
    "new_data_taille, new_data_poids = str(new_data_dup['Taille (cm)'][0]), str(new_data_dup['Poids (kg)'][0])\n",
    "index_dot_taille, index_dot_poids = new_data_taille.index('.'), new_data_poids.index('.')\n",
    "\n",
    "new_data_taille = int(float(new_data_taille)) if new_data_taille[index_dot_taille+1:][0] == '0' else float(new_data_taille)\n",
    "new_data_poids = int(float(new_data_poids)) if new_data_poids[index_dot_poids+1:][0] == '0' else float(new_data_poids)\n",
    "\n",
    "# fonction permettant de mettre une couleur de texte à la prédiction (vert pour Admis et rouge pour Refusé\n",
    "def colorise(text):\n",
    "    green = '\\033[92m' # vert\n",
    "    red = '\\033[91m' # rouge\n",
    "    \n",
    "    if text == 'Admis':\n",
    "        return green + text\n",
    "    elif text == 'Refusé':\n",
    "        return red + text\n",
    "        \n",
    "new_prediction = best_knn.predict(new_df)\n",
    "\n",
    "print(f\"Données nouveau candidat: \\nTaille: {new_data_taille} cm \\nPoids: {new_data_poids} kg\")\n",
    "print(f\"La prédiction pour les nouvelles données du nouveau candidat est : {colorise(new_prediction[0])}\")"
   ]
  },
  {
   "cell_type": "code",
   "execution_count": null,
   "id": "28cae204-965f-444e-aad3-f608289945df",
   "metadata": {},
   "outputs": [],
   "source": []
  }
 ],
 "metadata": {
  "kernelspec": {
   "display_name": "Python 3 (ipykernel)",
   "language": "python",
   "name": "python3"
  },
  "language_info": {
   "codemirror_mode": {
    "name": "ipython",
    "version": 3
   },
   "file_extension": ".py",
   "mimetype": "text/x-python",
   "name": "python",
   "nbconvert_exporter": "python",
   "pygments_lexer": "ipython3",
   "version": "3.12.3"
  }
 },
 "nbformat": 4,
 "nbformat_minor": 5
}
