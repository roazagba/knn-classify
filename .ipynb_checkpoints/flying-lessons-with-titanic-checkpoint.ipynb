{
 "cells": [
  {
   "cell_type": "markdown",
   "metadata": {
    "papermill": {
     "duration": 0.07173,
     "end_time": "2020-11-17T16:55:20.490629",
     "exception": false,
     "start_time": "2020-11-17T16:55:20.418899",
     "status": "completed"
    },
    "tags": []
   },
   "source": [
    "##### -With great help from the book Python Feature Engineering Cookbook by Soledad Galli"
   ]
  },
  {
   "cell_type": "code",
   "execution_count": 1,
   "metadata": {
    "_cell_guid": "b1076dfc-b9ad-4769-8c92-a6c4dae69d19",
    "_uuid": "8f2839f25d086af736a60e9eeb907d3b93b6e0e5",
    "execution": {
     "iopub.execute_input": "2020-11-17T16:55:20.640301Z",
     "iopub.status.busy": "2020-11-17T16:55:20.639424Z",
     "iopub.status.idle": "2020-11-17T16:55:21.992509Z",
     "shell.execute_reply": "2020-11-17T16:55:21.991788Z"
    },
    "papermill": {
     "duration": 1.430747,
     "end_time": "2020-11-17T16:55:21.992712",
     "exception": false,
     "start_time": "2020-11-17T16:55:20.561965",
     "status": "completed"
    },
    "tags": []
   },
   "outputs": [
    {
     "name": "stdout",
     "output_type": "stream",
     "text": [
      "['test.csv', 'train.csv', 'gender_submission.csv']\n"
     ]
    }
   ],
   "source": [
    "import numpy as np # linear algebra\n",
    "import pandas as pd # data processing, CSV file I/O (e.g. pd.read_csv)\n",
    "import os\n",
    "print(os.listdir(\"../input\"))\n",
    "import matplotlib.pyplot as plt\n",
    "\n",
    "from sklearn.linear_model import LogisticRegression\n",
    "from sklearn.svm import SVC, LinearSVC\n",
    "from sklearn.ensemble import RandomForestClassifier\n",
    "from sklearn.ensemble import GradientBoostingClassifier\n",
    "from sklearn.neighbors import KNeighborsClassifier\n",
    "from sklearn.naive_bayes import GaussianNB\n",
    "from sklearn.linear_model import Perceptron\n",
    "from sklearn.linear_model import SGDClassifier\n",
    "from sklearn.tree import DecisionTreeClassifier"
   ]
  },
  {
   "cell_type": "markdown",
   "metadata": {
    "papermill": {
     "duration": 0.07032,
     "end_time": "2020-11-17T16:55:22.134424",
     "exception": false,
     "start_time": "2020-11-17T16:55:22.064104",
     "status": "completed"
    },
    "tags": []
   },
   "source": [
    "## Data Exploration"
   ]
  },
  {
   "cell_type": "code",
   "execution_count": 2,
   "metadata": {
    "_cell_guid": "79c7e3d0-c299-4dcb-8224-4455121ee9b0",
    "_uuid": "d629ff2d2480ee46fbb7e2d37f6b5fab8052498a",
    "execution": {
     "iopub.execute_input": "2020-11-17T16:55:22.286202Z",
     "iopub.status.busy": "2020-11-17T16:55:22.285384Z",
     "iopub.status.idle": "2020-11-17T16:55:22.299107Z",
     "shell.execute_reply": "2020-11-17T16:55:22.298229Z"
    },
    "papermill": {
     "duration": 0.091133,
     "end_time": "2020-11-17T16:55:22.299243",
     "exception": false,
     "start_time": "2020-11-17T16:55:22.208110",
     "status": "completed"
    },
    "tags": []
   },
   "outputs": [],
   "source": [
    "train_data = pd.read_csv('../input/train.csv')"
   ]
  },
  {
   "cell_type": "code",
   "execution_count": 3,
   "metadata": {
    "execution": {
     "iopub.execute_input": "2020-11-17T16:55:22.478991Z",
     "iopub.status.busy": "2020-11-17T16:55:22.477821Z",
     "iopub.status.idle": "2020-11-17T16:55:22.498450Z",
     "shell.execute_reply": "2020-11-17T16:55:22.497199Z"
    },
    "papermill": {
     "duration": 0.11601,
     "end_time": "2020-11-17T16:55:22.498665",
     "exception": false,
     "start_time": "2020-11-17T16:55:22.382655",
     "status": "completed"
    },
    "tags": []
   },
   "outputs": [
    {
     "name": "stdout",
     "output_type": "stream",
     "text": [
      "<class 'pandas.core.frame.DataFrame'>\n",
      "RangeIndex: 891 entries, 0 to 890\n",
      "Data columns (total 12 columns):\n",
      " #   Column       Non-Null Count  Dtype  \n",
      "---  ------       --------------  -----  \n",
      " 0   PassengerId  891 non-null    int64  \n",
      " 1   Survived     891 non-null    int64  \n",
      " 2   Pclass       891 non-null    int64  \n",
      " 3   Name         891 non-null    object \n",
      " 4   Sex          891 non-null    object \n",
      " 5   Age          714 non-null    float64\n",
      " 6   SibSp        891 non-null    int64  \n",
      " 7   Parch        891 non-null    int64  \n",
      " 8   Ticket       891 non-null    object \n",
      " 9   Fare         891 non-null    float64\n",
      " 10  Cabin        204 non-null    object \n",
      " 11  Embarked     889 non-null    object \n",
      "dtypes: float64(2), int64(5), object(5)\n",
      "memory usage: 83.7+ KB\n"
     ]
    }
   ],
   "source": [
    "train_data.info()"
   ]
  },
  {
   "cell_type": "code",
   "execution_count": 4,
   "metadata": {
    "execution": {
     "iopub.execute_input": "2020-11-17T16:55:22.659239Z",
     "iopub.status.busy": "2020-11-17T16:55:22.658037Z",
     "iopub.status.idle": "2020-11-17T16:55:22.672841Z",
     "shell.execute_reply": "2020-11-17T16:55:22.672045Z"
    },
    "papermill": {
     "duration": 0.102046,
     "end_time": "2020-11-17T16:55:22.672975",
     "exception": false,
     "start_time": "2020-11-17T16:55:22.570929",
     "status": "completed"
    },
    "tags": []
   },
   "outputs": [
    {
     "data": {
      "text/html": [
       "<div>\n",
       "<style scoped>\n",
       "    .dataframe tbody tr th:only-of-type {\n",
       "        vertical-align: middle;\n",
       "    }\n",
       "\n",
       "    .dataframe tbody tr th {\n",
       "        vertical-align: top;\n",
       "    }\n",
       "\n",
       "    .dataframe thead th {\n",
       "        text-align: right;\n",
       "    }\n",
       "</style>\n",
       "<table border=\"1\" class=\"dataframe\">\n",
       "  <thead>\n",
       "    <tr style=\"text-align: right;\">\n",
       "      <th></th>\n",
       "      <th>PassengerId</th>\n",
       "      <th>Survived</th>\n",
       "      <th>Pclass</th>\n",
       "      <th>Name</th>\n",
       "      <th>Sex</th>\n",
       "      <th>Age</th>\n",
       "      <th>SibSp</th>\n",
       "      <th>Parch</th>\n",
       "      <th>Ticket</th>\n",
       "      <th>Fare</th>\n",
       "      <th>Cabin</th>\n",
       "      <th>Embarked</th>\n",
       "    </tr>\n",
       "  </thead>\n",
       "  <tbody>\n",
       "    <tr>\n",
       "      <th>0</th>\n",
       "      <td>1</td>\n",
       "      <td>0</td>\n",
       "      <td>3</td>\n",
       "      <td>Braund, Mr. Owen Harris</td>\n",
       "      <td>male</td>\n",
       "      <td>22.0</td>\n",
       "      <td>1</td>\n",
       "      <td>0</td>\n",
       "      <td>A/5 21171</td>\n",
       "      <td>7.2500</td>\n",
       "      <td>NaN</td>\n",
       "      <td>S</td>\n",
       "    </tr>\n",
       "    <tr>\n",
       "      <th>1</th>\n",
       "      <td>2</td>\n",
       "      <td>1</td>\n",
       "      <td>1</td>\n",
       "      <td>Cumings, Mrs. John Bradley (Florence Briggs Th...</td>\n",
       "      <td>female</td>\n",
       "      <td>38.0</td>\n",
       "      <td>1</td>\n",
       "      <td>0</td>\n",
       "      <td>PC 17599</td>\n",
       "      <td>71.2833</td>\n",
       "      <td>C85</td>\n",
       "      <td>C</td>\n",
       "    </tr>\n",
       "    <tr>\n",
       "      <th>2</th>\n",
       "      <td>3</td>\n",
       "      <td>1</td>\n",
       "      <td>3</td>\n",
       "      <td>Heikkinen, Miss. Laina</td>\n",
       "      <td>female</td>\n",
       "      <td>26.0</td>\n",
       "      <td>0</td>\n",
       "      <td>0</td>\n",
       "      <td>STON/O2. 3101282</td>\n",
       "      <td>7.9250</td>\n",
       "      <td>NaN</td>\n",
       "      <td>S</td>\n",
       "    </tr>\n",
       "    <tr>\n",
       "      <th>3</th>\n",
       "      <td>4</td>\n",
       "      <td>1</td>\n",
       "      <td>1</td>\n",
       "      <td>Futrelle, Mrs. Jacques Heath (Lily May Peel)</td>\n",
       "      <td>female</td>\n",
       "      <td>35.0</td>\n",
       "      <td>1</td>\n",
       "      <td>0</td>\n",
       "      <td>113803</td>\n",
       "      <td>53.1000</td>\n",
       "      <td>C123</td>\n",
       "      <td>S</td>\n",
       "    </tr>\n",
       "    <tr>\n",
       "      <th>4</th>\n",
       "      <td>5</td>\n",
       "      <td>0</td>\n",
       "      <td>3</td>\n",
       "      <td>Allen, Mr. William Henry</td>\n",
       "      <td>male</td>\n",
       "      <td>35.0</td>\n",
       "      <td>0</td>\n",
       "      <td>0</td>\n",
       "      <td>373450</td>\n",
       "      <td>8.0500</td>\n",
       "      <td>NaN</td>\n",
       "      <td>S</td>\n",
       "    </tr>\n",
       "  </tbody>\n",
       "</table>\n",
       "</div>"
      ],
      "text/plain": [
       "   PassengerId  Survived  Pclass  \\\n",
       "0            1         0       3   \n",
       "1            2         1       1   \n",
       "2            3         1       3   \n",
       "3            4         1       1   \n",
       "4            5         0       3   \n",
       "\n",
       "                                                Name     Sex   Age  SibSp  \\\n",
       "0                            Braund, Mr. Owen Harris    male  22.0      1   \n",
       "1  Cumings, Mrs. John Bradley (Florence Briggs Th...  female  38.0      1   \n",
       "2                             Heikkinen, Miss. Laina  female  26.0      0   \n",
       "3       Futrelle, Mrs. Jacques Heath (Lily May Peel)  female  35.0      1   \n",
       "4                           Allen, Mr. William Henry    male  35.0      0   \n",
       "\n",
       "   Parch            Ticket     Fare Cabin Embarked  \n",
       "0      0         A/5 21171   7.2500   NaN        S  \n",
       "1      0          PC 17599  71.2833   C85        C  \n",
       "2      0  STON/O2. 3101282   7.9250   NaN        S  \n",
       "3      0            113803  53.1000  C123        S  \n",
       "4      0            373450   8.0500   NaN        S  "
      ]
     },
     "execution_count": 4,
     "metadata": {},
     "output_type": "execute_result"
    }
   ],
   "source": [
    "train_data.head()"
   ]
  },
  {
   "cell_type": "markdown",
   "metadata": {
    "papermill": {
     "duration": 0.071017,
     "end_time": "2020-11-17T16:55:22.815506",
     "exception": false,
     "start_time": "2020-11-17T16:55:22.744489",
     "status": "completed"
    },
    "tags": []
   },
   "source": [
    "### Basic Categorical Transformations"
   ]
  },
  {
   "cell_type": "code",
   "execution_count": 5,
   "metadata": {
    "execution": {
     "iopub.execute_input": "2020-11-17T16:55:22.973444Z",
     "iopub.status.busy": "2020-11-17T16:55:22.972203Z",
     "iopub.status.idle": "2020-11-17T16:55:22.977028Z",
     "shell.execute_reply": "2020-11-17T16:55:22.976236Z"
    },
    "papermill": {
     "duration": 0.088423,
     "end_time": "2020-11-17T16:55:22.977165",
     "exception": false,
     "start_time": "2020-11-17T16:55:22.888742",
     "status": "completed"
    },
    "tags": []
   },
   "outputs": [
    {
     "data": {
      "text/plain": [
       "male      577\n",
       "female    314\n",
       "Name: Sex, dtype: int64"
      ]
     },
     "execution_count": 5,
     "metadata": {},
     "output_type": "execute_result"
    }
   ],
   "source": [
    "train_data.Sex.value_counts()"
   ]
  },
  {
   "cell_type": "code",
   "execution_count": 6,
   "metadata": {
    "execution": {
     "iopub.execute_input": "2020-11-17T16:55:23.132875Z",
     "iopub.status.busy": "2020-11-17T16:55:23.131697Z",
     "iopub.status.idle": "2020-11-17T16:55:23.134588Z",
     "shell.execute_reply": "2020-11-17T16:55:23.135139Z"
    },
    "papermill": {
     "duration": 0.083944,
     "end_time": "2020-11-17T16:55:23.135299",
     "exception": false,
     "start_time": "2020-11-17T16:55:23.051355",
     "status": "completed"
    },
    "tags": []
   },
   "outputs": [],
   "source": [
    "train_data['is_male'] = np.where(train_data.Sex == 'male', 1,0)"
   ]
  },
  {
   "cell_type": "code",
   "execution_count": 7,
   "metadata": {
    "execution": {
     "iopub.execute_input": "2020-11-17T16:55:23.291581Z",
     "iopub.status.busy": "2020-11-17T16:55:23.290401Z",
     "iopub.status.idle": "2020-11-17T16:55:23.295568Z",
     "shell.execute_reply": "2020-11-17T16:55:23.294795Z"
    },
    "papermill": {
     "duration": 0.086036,
     "end_time": "2020-11-17T16:55:23.295699",
     "exception": false,
     "start_time": "2020-11-17T16:55:23.209663",
     "status": "completed"
    },
    "tags": []
   },
   "outputs": [
    {
     "data": {
      "text/plain": [
       "S    644\n",
       "C    168\n",
       "Q     77\n",
       "Name: Embarked, dtype: int64"
      ]
     },
     "execution_count": 7,
     "metadata": {},
     "output_type": "execute_result"
    }
   ],
   "source": [
    "train_data.Embarked.value_counts()"
   ]
  },
  {
   "cell_type": "code",
   "execution_count": 8,
   "metadata": {
    "execution": {
     "iopub.execute_input": "2020-11-17T16:55:23.455494Z",
     "iopub.status.busy": "2020-11-17T16:55:23.454575Z",
     "iopub.status.idle": "2020-11-17T16:55:23.458184Z",
     "shell.execute_reply": "2020-11-17T16:55:23.457596Z"
    },
    "papermill": {
     "duration": 0.085973,
     "end_time": "2020-11-17T16:55:23.458318",
     "exception": false,
     "start_time": "2020-11-17T16:55:23.372345",
     "status": "completed"
    },
    "tags": []
   },
   "outputs": [],
   "source": [
    "train_data['Embarked_S'] = np.where(train_data.Embarked == 'S', 1,0)\n",
    "train_data['Embarked_C'] = np.where(train_data.Embarked == 'C', 1,0)"
   ]
  },
  {
   "cell_type": "code",
   "execution_count": 9,
   "metadata": {
    "execution": {
     "iopub.execute_input": "2020-11-17T16:55:23.614105Z",
     "iopub.status.busy": "2020-11-17T16:55:23.613092Z",
     "iopub.status.idle": "2020-11-17T16:55:23.642504Z",
     "shell.execute_reply": "2020-11-17T16:55:23.641656Z"
    },
    "papermill": {
     "duration": 0.111601,
     "end_time": "2020-11-17T16:55:23.642663",
     "exception": false,
     "start_time": "2020-11-17T16:55:23.531062",
     "status": "completed"
    },
    "tags": []
   },
   "outputs": [],
   "source": [
    "train_data['FamilySize'] = train_data['SibSp'] + train_data['Parch'] + 1"
   ]
  },
  {
   "cell_type": "code",
   "execution_count": 10,
   "metadata": {
    "execution": {
     "iopub.execute_input": "2020-11-17T16:55:23.815987Z",
     "iopub.status.busy": "2020-11-17T16:55:23.814918Z",
     "iopub.status.idle": "2020-11-17T16:55:23.820403Z",
     "shell.execute_reply": "2020-11-17T16:55:23.819639Z"
    },
    "papermill": {
     "duration": 0.099537,
     "end_time": "2020-11-17T16:55:23.820554",
     "exception": false,
     "start_time": "2020-11-17T16:55:23.721017",
     "status": "completed"
    },
    "tags": []
   },
   "outputs": [
    {
     "data": {
      "text/html": [
       "<div>\n",
       "<style scoped>\n",
       "    .dataframe tbody tr th:only-of-type {\n",
       "        vertical-align: middle;\n",
       "    }\n",
       "\n",
       "    .dataframe tbody tr th {\n",
       "        vertical-align: top;\n",
       "    }\n",
       "\n",
       "    .dataframe thead th {\n",
       "        text-align: right;\n",
       "    }\n",
       "</style>\n",
       "<table border=\"1\" class=\"dataframe\">\n",
       "  <thead>\n",
       "    <tr style=\"text-align: right;\">\n",
       "      <th></th>\n",
       "      <th>FamilySize</th>\n",
       "      <th>Survived</th>\n",
       "    </tr>\n",
       "  </thead>\n",
       "  <tbody>\n",
       "    <tr>\n",
       "      <th>3</th>\n",
       "      <td>4</td>\n",
       "      <td>0.724138</td>\n",
       "    </tr>\n",
       "    <tr>\n",
       "      <th>2</th>\n",
       "      <td>3</td>\n",
       "      <td>0.578431</td>\n",
       "    </tr>\n",
       "    <tr>\n",
       "      <th>1</th>\n",
       "      <td>2</td>\n",
       "      <td>0.552795</td>\n",
       "    </tr>\n",
       "    <tr>\n",
       "      <th>6</th>\n",
       "      <td>7</td>\n",
       "      <td>0.333333</td>\n",
       "    </tr>\n",
       "    <tr>\n",
       "      <th>0</th>\n",
       "      <td>1</td>\n",
       "      <td>0.303538</td>\n",
       "    </tr>\n",
       "    <tr>\n",
       "      <th>4</th>\n",
       "      <td>5</td>\n",
       "      <td>0.200000</td>\n",
       "    </tr>\n",
       "    <tr>\n",
       "      <th>5</th>\n",
       "      <td>6</td>\n",
       "      <td>0.136364</td>\n",
       "    </tr>\n",
       "    <tr>\n",
       "      <th>7</th>\n",
       "      <td>8</td>\n",
       "      <td>0.000000</td>\n",
       "    </tr>\n",
       "    <tr>\n",
       "      <th>8</th>\n",
       "      <td>11</td>\n",
       "      <td>0.000000</td>\n",
       "    </tr>\n",
       "  </tbody>\n",
       "</table>\n",
       "</div>"
      ],
      "text/plain": [
       "   FamilySize  Survived\n",
       "3           4  0.724138\n",
       "2           3  0.578431\n",
       "1           2  0.552795\n",
       "6           7  0.333333\n",
       "0           1  0.303538\n",
       "4           5  0.200000\n",
       "5           6  0.136364\n",
       "7           8  0.000000\n",
       "8          11  0.000000"
      ]
     },
     "execution_count": 10,
     "metadata": {},
     "output_type": "execute_result"
    }
   ],
   "source": [
    "train_data[['FamilySize', 'Survived']].groupby(['FamilySize'], as_index=False).mean().sort_values(by='Survived', ascending=False)"
   ]
  },
  {
   "cell_type": "markdown",
   "metadata": {
    "papermill": {
     "duration": 0.074951,
     "end_time": "2020-11-17T16:55:23.970580",
     "exception": false,
     "start_time": "2020-11-17T16:55:23.895629",
     "status": "completed"
    },
    "tags": []
   },
   "source": [
    "#### Missing Count"
   ]
  },
  {
   "cell_type": "code",
   "execution_count": 11,
   "metadata": {
    "execution": {
     "iopub.execute_input": "2020-11-17T16:55:24.131209Z",
     "iopub.status.busy": "2020-11-17T16:55:24.128866Z",
     "iopub.status.idle": "2020-11-17T16:55:24.135486Z",
     "shell.execute_reply": "2020-11-17T16:55:24.136343Z"
    },
    "papermill": {
     "duration": 0.089386,
     "end_time": "2020-11-17T16:55:24.136510",
     "exception": false,
     "start_time": "2020-11-17T16:55:24.047124",
     "status": "completed"
    },
    "tags": []
   },
   "outputs": [
    {
     "data": {
      "text/plain": [
       "PassengerId      0\n",
       "Survived         0\n",
       "Pclass           0\n",
       "Name             0\n",
       "Sex              0\n",
       "Age            177\n",
       "SibSp            0\n",
       "Parch            0\n",
       "Ticket           0\n",
       "Fare             0\n",
       "Cabin          687\n",
       "Embarked         2\n",
       "is_male          0\n",
       "Embarked_S       0\n",
       "Embarked_C       0\n",
       "FamilySize       0\n",
       "dtype: int64"
      ]
     },
     "execution_count": 11,
     "metadata": {},
     "output_type": "execute_result"
    }
   ],
   "source": [
    "train_data.isnull().sum()"
   ]
  },
  {
   "cell_type": "markdown",
   "metadata": {
    "papermill": {
     "duration": 0.073741,
     "end_time": "2020-11-17T16:55:24.285752",
     "exception": false,
     "start_time": "2020-11-17T16:55:24.212011",
     "status": "completed"
    },
    "tags": []
   },
   "source": [
    "#### Missing Rate"
   ]
  },
  {
   "cell_type": "code",
   "execution_count": 12,
   "metadata": {
    "execution": {
     "iopub.execute_input": "2020-11-17T16:55:24.445497Z",
     "iopub.status.busy": "2020-11-17T16:55:24.442970Z",
     "iopub.status.idle": "2020-11-17T16:55:24.450473Z",
     "shell.execute_reply": "2020-11-17T16:55:24.449850Z"
    },
    "papermill": {
     "duration": 0.089662,
     "end_time": "2020-11-17T16:55:24.450623",
     "exception": false,
     "start_time": "2020-11-17T16:55:24.360961",
     "status": "completed"
    },
    "tags": []
   },
   "outputs": [
    {
     "data": {
      "text/plain": [
       "PassengerId    0.000000\n",
       "Survived       0.000000\n",
       "Pclass         0.000000\n",
       "Name           0.000000\n",
       "Sex            0.000000\n",
       "Age            0.198653\n",
       "SibSp          0.000000\n",
       "Parch          0.000000\n",
       "Ticket         0.000000\n",
       "Fare           0.000000\n",
       "Cabin          0.771044\n",
       "Embarked       0.002245\n",
       "is_male        0.000000\n",
       "Embarked_S     0.000000\n",
       "Embarked_C     0.000000\n",
       "FamilySize     0.000000\n",
       "dtype: float64"
      ]
     },
     "execution_count": 12,
     "metadata": {},
     "output_type": "execute_result"
    }
   ],
   "source": [
    "train_data.isnull().mean()"
   ]
  },
  {
   "cell_type": "code",
   "execution_count": 13,
   "metadata": {
    "execution": {
     "iopub.execute_input": "2020-11-17T16:55:24.612383Z",
     "iopub.status.busy": "2020-11-17T16:55:24.611523Z",
     "iopub.status.idle": "2020-11-17T16:55:24.925923Z",
     "shell.execute_reply": "2020-11-17T16:55:24.925172Z"
    },
    "papermill": {
     "duration": 0.399539,
     "end_time": "2020-11-17T16:55:24.926046",
     "exception": false,
     "start_time": "2020-11-17T16:55:24.526507",
     "status": "completed"
    },
    "tags": []
   },
   "outputs": [
    {
     "data": {
      "text/plain": [
       "Text(0.5, 1.0, 'Quantifying missing data')"
      ]
     },
     "execution_count": 13,
     "metadata": {},
     "output_type": "execute_result"
    },
    {
     "data": {
      "image/png": "[encoded data removed]",
      "text/plain": [
       "<Figure size 864x432 with 1 Axes>"
      ]
     },
     "metadata": {
      "needs_background": "light"
     },
     "output_type": "display_data"
    }
   ],
   "source": [
    "train_data.isnull().mean().plot.bar(figsize=(12,6))\n",
    "plt.ylabel('Percentage of missing values')\n",
    "plt.xlabel('Variables')\n",
    "plt.title('Quantifying missing data')"
   ]
  },
  {
   "cell_type": "markdown",
   "metadata": {
    "papermill": {
     "duration": 0.075869,
     "end_time": "2020-11-17T16:55:25.079922",
     "exception": false,
     "start_time": "2020-11-17T16:55:25.004053",
     "status": "completed"
    },
    "tags": []
   },
   "source": [
    "##### It is kind of difficult to have columns with more than 40% missing data to be a part of the final features but it is too early to decide on this one here"
   ]
  },
  {
   "cell_type": "markdown",
   "metadata": {
    "papermill": {
     "duration": 0.077906,
     "end_time": "2020-11-17T16:55:25.234729",
     "exception": false,
     "start_time": "2020-11-17T16:55:25.156823",
     "status": "completed"
    },
    "tags": []
   },
   "source": [
    "#### Unique Count"
   ]
  },
  {
   "cell_type": "code",
   "execution_count": 14,
   "metadata": {
    "execution": {
     "iopub.execute_input": "2020-11-17T16:55:25.394757Z",
     "iopub.status.busy": "2020-11-17T16:55:25.394003Z",
     "iopub.status.idle": "2020-11-17T16:55:25.406829Z",
     "shell.execute_reply": "2020-11-17T16:55:25.406075Z"
    },
    "papermill": {
     "duration": 0.0959,
     "end_time": "2020-11-17T16:55:25.406954",
     "exception": false,
     "start_time": "2020-11-17T16:55:25.311054",
     "status": "completed"
    },
    "tags": []
   },
   "outputs": [
    {
     "data": {
      "text/plain": [
       "PassengerId    891\n",
       "Survived         2\n",
       "Pclass           3\n",
       "Name           891\n",
       "Sex              2\n",
       "Age             88\n",
       "SibSp            7\n",
       "Parch            7\n",
       "Ticket         681\n",
       "Fare           248\n",
       "Cabin          147\n",
       "Embarked         3\n",
       "is_male          2\n",
       "Embarked_S       2\n",
       "Embarked_C       2\n",
       "FamilySize       9\n",
       "dtype: int64"
      ]
     },
     "execution_count": 14,
     "metadata": {},
     "output_type": "execute_result"
    }
   ],
   "source": [
    "train_data.nunique()"
   ]
  },
  {
   "cell_type": "code",
   "execution_count": 15,
   "metadata": {
    "_uuid": "0845f911ce5e9e895cf17c8be1d7392952382777",
    "execution": {
     "iopub.execute_input": "2020-11-17T16:55:25.568372Z",
     "iopub.status.busy": "2020-11-17T16:55:25.567607Z",
     "iopub.status.idle": "2020-11-17T16:55:25.813833Z",
     "shell.execute_reply": "2020-11-17T16:55:25.813123Z"
    },
    "papermill": {
     "duration": 0.329971,
     "end_time": "2020-11-17T16:55:25.813965",
     "exception": false,
     "start_time": "2020-11-17T16:55:25.483994",
     "status": "completed"
    },
    "tags": []
   },
   "outputs": [
    {
     "data": {
      "text/plain": [
       "Text(0.5, 1.0, 'Cardinality')"
      ]
     },
     "execution_count": 15,
     "metadata": {},
     "output_type": "execute_result"
    },
    {
     "data": {
      "image/png": "[encoded data removed]",
      "text/plain": [
       "<Figure size 864x432 with 1 Axes>"
      ]
     },
     "metadata": {
      "needs_background": "light"
     },
     "output_type": "display_data"
    }
   ],
   "source": [
    "train_data.nunique().plot.bar(figsize=(12,6))\n",
    "plt.ylabel('Number of unique categories')\n",
    "plt.xlabel('Variables')\n",
    "plt.title('Cardinality')"
   ]
  },
  {
   "cell_type": "markdown",
   "metadata": {
    "papermill": {
     "duration": 0.081264,
     "end_time": "2020-11-17T16:55:25.976138",
     "exception": false,
     "start_time": "2020-11-17T16:55:25.894874",
     "status": "completed"
    },
    "tags": []
   },
   "source": [
    "### Individual Column Wise Analysis"
   ]
  },
  {
   "cell_type": "markdown",
   "metadata": {
    "papermill": {
     "duration": 0.080511,
     "end_time": "2020-11-17T16:55:26.135179",
     "exception": false,
     "start_time": "2020-11-17T16:55:26.054668",
     "status": "completed"
    },
    "tags": []
   },
   "source": [
    "##### Identifying Rare Categories"
   ]
  },
  {
   "cell_type": "code",
   "execution_count": 16,
   "metadata": {
    "_uuid": "b9ffb7ee7ce002e9fe3a85f4ad7b415617fe6ed8",
    "execution": {
     "iopub.execute_input": "2020-11-17T16:55:26.403739Z",
     "iopub.status.busy": "2020-11-17T16:55:26.398329Z",
     "iopub.status.idle": "2020-11-17T16:55:26.552597Z",
     "shell.execute_reply": "2020-11-17T16:55:26.551807Z"
    },
    "papermill": {
     "duration": 0.335932,
     "end_time": "2020-11-17T16:55:26.552758",
     "exception": false,
     "start_time": "2020-11-17T16:55:26.216826",
     "status": "completed"
    },
    "tags": []
   },
   "outputs": [
    {
     "data": {
      "image/png": "[encoded data removed]",
      "text/plain": [
       "<Figure size 432x288 with 1 Axes>"
      ]
     },
     "metadata": {
      "needs_background": "light"
     },
     "output_type": "display_data"
    }
   ],
   "source": [
    "label_freq = train_data['Pclass'].value_counts() / len(train_data)\n",
    "fig = label_freq.sort_values(ascending=False).plot.bar()\n",
    "fig.axhline(y=0.30, color='red')\n",
    "fig.set_ylabel('percentage within each category')\n",
    "fig.set_xlabel('Variable: Pclass')\n",
    "fig.set_title('Identifying Rare Categories')\n",
    "plt.show()"
   ]
  },
  {
   "cell_type": "code",
   "execution_count": 17,
   "metadata": {
    "_uuid": "a06cfa125bbc33e8c11ee45605460fecc23c6444",
    "execution": {
     "iopub.execute_input": "2020-11-17T16:55:26.730644Z",
     "iopub.status.busy": "2020-11-17T16:55:26.724944Z",
     "iopub.status.idle": "2020-11-17T16:55:26.869846Z",
     "shell.execute_reply": "2020-11-17T16:55:26.869063Z"
    },
    "papermill": {
     "duration": 0.237368,
     "end_time": "2020-11-17T16:55:26.869990",
     "exception": false,
     "start_time": "2020-11-17T16:55:26.632622",
     "status": "completed"
    },
    "tags": []
   },
   "outputs": [
    {
     "data": {
      "image/png": "[encoded data removed]",
      "text/plain": [
       "<Figure size 432x288 with 1 Axes>"
      ]
     },
     "metadata": {
      "needs_background": "light"
     },
     "output_type": "display_data"
    }
   ],
   "source": [
    "label_freq = train_data['Sex'].value_counts() / len(train_data)\n",
    "fig = label_freq.sort_values(ascending=False).plot.bar()\n",
    "fig.axhline(y=0.35, color='red')\n",
    "fig.set_ylabel('percentage within each category')\n",
    "fig.set_xlabel('Variable: Sex')\n",
    "fig.set_title('Identifying Rare Categories')\n",
    "plt.show()"
   ]
  },
  {
   "cell_type": "code",
   "execution_count": 18,
   "metadata": {
    "execution": {
     "iopub.execute_input": "2020-11-17T16:55:27.053297Z",
     "iopub.status.busy": "2020-11-17T16:55:27.052401Z",
     "iopub.status.idle": "2020-11-17T16:55:27.221029Z",
     "shell.execute_reply": "2020-11-17T16:55:27.221720Z"
    },
    "papermill": {
     "duration": 0.271427,
     "end_time": "2020-11-17T16:55:27.221884",
     "exception": false,
     "start_time": "2020-11-17T16:55:26.950457",
     "status": "completed"
    },
    "tags": []
   },
   "outputs": [
    {
     "data": {
      "image/png": "[encoded data removed]",
      "text/plain": [
       "<Figure size 432x288 with 1 Axes>"
      ]
     },
     "metadata": {
      "needs_background": "light"
     },
     "output_type": "display_data"
    }
   ],
   "source": [
    "label_freq = train_data['SibSp'].value_counts() / len(train_data)\n",
    "fig = label_freq.sort_values(ascending=False).plot.bar()\n",
    "fig.axhline(y=0.10, color='red')\n",
    "fig.set_ylabel('percentage within each category')\n",
    "fig.set_xlabel('Variable: SibSp')\n",
    "fig.set_title('Identifying Rare Categories')\n",
    "plt.show()"
   ]
  },
  {
   "cell_type": "code",
   "execution_count": 19,
   "metadata": {
    "execution": {
     "iopub.execute_input": "2020-11-17T16:55:27.413301Z",
     "iopub.status.busy": "2020-11-17T16:55:27.404119Z",
     "iopub.status.idle": "2020-11-17T16:55:27.559191Z",
     "shell.execute_reply": "2020-11-17T16:55:27.558359Z"
    },
    "papermill": {
     "duration": 0.254854,
     "end_time": "2020-11-17T16:55:27.559326",
     "exception": false,
     "start_time": "2020-11-17T16:55:27.304472",
     "status": "completed"
    },
    "tags": []
   },
   "outputs": [
    {
     "data": {
      "image/png": "[encoded data removed]",
      "text/plain": [
       "<Figure size 432x288 with 1 Axes>"
      ]
     },
     "metadata": {
      "needs_background": "light"
     },
     "output_type": "display_data"
    }
   ],
   "source": [
    "label_freq = train_data['Embarked'].value_counts() / len(train_data)\n",
    "fig = label_freq.sort_values(ascending=False).plot.bar()\n",
    "fig.axhline(y=0.20, color='red')\n",
    "fig.set_ylabel('percentage within each category')\n",
    "fig.set_xlabel('Variable: Embarked')\n",
    "fig.set_title('Identifying Rare Categories')\n",
    "plt.show()"
   ]
  },
  {
   "cell_type": "code",
   "execution_count": 20,
   "metadata": {
    "execution": {
     "iopub.execute_input": "2020-11-17T16:55:27.746325Z",
     "iopub.status.busy": "2020-11-17T16:55:27.745396Z",
     "iopub.status.idle": "2020-11-17T16:55:27.914683Z",
     "shell.execute_reply": "2020-11-17T16:55:27.915253Z"
    },
    "papermill": {
     "duration": 0.27226,
     "end_time": "2020-11-17T16:55:27.915424",
     "exception": false,
     "start_time": "2020-11-17T16:55:27.643164",
     "status": "completed"
    },
    "tags": []
   },
   "outputs": [
    {
     "data": {
      "image/png": "[encoded data removed]",
      "text/plain": [
       "<Figure size 432x288 with 1 Axes>"
      ]
     },
     "metadata": {
      "needs_background": "light"
     },
     "output_type": "display_data"
    }
   ],
   "source": [
    "label_freq = train_data['Parch'].value_counts() / len(train_data)\n",
    "fig = label_freq.sort_values(ascending=False).plot.bar()\n",
    "fig.axhline(y=0.15, color='red')\n",
    "fig.set_ylabel('percentage within each category')\n",
    "fig.set_xlabel('Variable: Parch')\n",
    "fig.set_title('Identifying Rare Categories')\n",
    "plt.show()"
   ]
  },
  {
   "cell_type": "markdown",
   "metadata": {
    "papermill": {
     "duration": 0.084989,
     "end_time": "2020-11-17T16:55:28.094322",
     "exception": false,
     "start_time": "2020-11-17T16:55:28.009333",
     "status": "completed"
    },
    "tags": []
   },
   "source": [
    "#### Checking Distribution of continuous variables since many algorithms assume normal distribution"
   ]
  },
  {
   "cell_type": "code",
   "execution_count": 21,
   "metadata": {
    "execution": {
     "iopub.execute_input": "2020-11-17T16:55:28.282236Z",
     "iopub.status.busy": "2020-11-17T16:55:28.275711Z",
     "iopub.status.idle": "2020-11-17T16:55:28.568735Z",
     "shell.execute_reply": "2020-11-17T16:55:28.567952Z"
    },
    "papermill": {
     "duration": 0.387646,
     "end_time": "2020-11-17T16:55:28.568877",
     "exception": false,
     "start_time": "2020-11-17T16:55:28.181231",
     "status": "completed"
    },
    "tags": []
   },
   "outputs": [
    {
     "data": {
      "text/plain": [
       "Text(0.5, 1.0, 'Histogram Column Fare')"
      ]
     },
     "execution_count": 21,
     "metadata": {},
     "output_type": "execute_result"
    },
    {
     "data": {
      "image/png": "[encoded data removed]",
      "text/plain": [
       "<Figure size 432x288 with 1 Axes>"
      ]
     },
     "metadata": {
      "needs_background": "light"
     },
     "output_type": "display_data"
    }
   ],
   "source": [
    "train_data['Fare'].hist(bins=50)\n",
    "\n",
    "plt.title('Histogram Column Fare')"
   ]
  },
  {
   "cell_type": "code",
   "execution_count": 22,
   "metadata": {
    "execution": {
     "iopub.execute_input": "2020-11-17T16:55:28.749783Z",
     "iopub.status.busy": "2020-11-17T16:55:28.748954Z",
     "iopub.status.idle": "2020-11-17T16:55:28.940175Z",
     "shell.execute_reply": "2020-11-17T16:55:28.939396Z"
    },
    "papermill": {
     "duration": 0.284415,
     "end_time": "2020-11-17T16:55:28.940303",
     "exception": false,
     "start_time": "2020-11-17T16:55:28.655888",
     "status": "completed"
    },
    "tags": []
   },
   "outputs": [
    {
     "data": {
      "image/png": "[encoded data removed]",
      "text/plain": [
       "<Figure size 432x288 with 1 Axes>"
      ]
     },
     "metadata": {
      "needs_background": "light"
     },
     "output_type": "display_data"
    }
   ],
   "source": [
    "import scipy.stats as stats\n",
    "stats.probplot(train_data['Fare'], dist=\"norm\", plot=plt)\n",
    "plt.title('Q-Q Plot for column Fare')\n",
    "plt.show()"
   ]
  },
  {
   "cell_type": "code",
   "execution_count": 23,
   "metadata": {
    "execution": {
     "iopub.execute_input": "2020-11-17T16:55:29.129068Z",
     "iopub.status.busy": "2020-11-17T16:55:29.123962Z",
     "iopub.status.idle": "2020-11-17T16:55:29.414768Z",
     "shell.execute_reply": "2020-11-17T16:55:29.413946Z"
    },
    "papermill": {
     "duration": 0.386881,
     "end_time": "2020-11-17T16:55:29.414913",
     "exception": false,
     "start_time": "2020-11-17T16:55:29.028032",
     "status": "completed"
    },
    "tags": []
   },
   "outputs": [
    {
     "data": {
      "text/plain": [
       "Text(0.5, 1.0, 'Histogram Column Age')"
      ]
     },
     "execution_count": 23,
     "metadata": {},
     "output_type": "execute_result"
    },
    {
     "data": {
      "image/png": "[encoded data removed]",
      "text/plain": [
       "<Figure size 432x288 with 1 Axes>"
      ]
     },
     "metadata": {
      "needs_background": "light"
     },
     "output_type": "display_data"
    }
   ],
   "source": [
    "train_data['Age'].hist(bins=50)\n",
    "plt.title('Histogram Column Age')"
   ]
  },
  {
   "cell_type": "code",
   "execution_count": 24,
   "metadata": {
    "execution": {
     "iopub.execute_input": "2020-11-17T16:55:29.599817Z",
     "iopub.status.busy": "2020-11-17T16:55:29.598667Z",
     "iopub.status.idle": "2020-11-17T16:55:29.798696Z",
     "shell.execute_reply": "2020-11-17T16:55:29.797928Z"
    },
    "papermill": {
     "duration": 0.295098,
     "end_time": "2020-11-17T16:55:29.798825",
     "exception": false,
     "start_time": "2020-11-17T16:55:29.503727",
     "status": "completed"
    },
    "tags": []
   },
   "outputs": [
    {
     "data": {
      "image/png": "[encoded data removed]",
      "text/plain": [
       "<Figure size 432x288 with 1 Axes>"
      ]
     },
     "metadata": {
      "needs_background": "light"
     },
     "output_type": "display_data"
    }
   ],
   "source": [
    "stats.probplot(train_data['Age'], dist=\"norm\", plot=plt)\n",
    "plt.title('Q-Q Plot for column Age')\n",
    "plt.show()"
   ]
  },
  {
   "cell_type": "markdown",
   "metadata": {
    "papermill": {
     "duration": 0.139888,
     "end_time": "2020-11-17T16:55:30.028807",
     "exception": false,
     "start_time": "2020-11-17T16:55:29.888919",
     "status": "completed"
    },
    "tags": []
   },
   "source": [
    "#### If a variable is normally distributed, its quantiles follow the quantiles of the theoretical distribution such that the dots of the variable values fall along the 45-degree line."
   ]
  },
  {
   "cell_type": "code",
   "execution_count": 25,
   "metadata": {
    "execution": {
     "iopub.execute_input": "2020-11-17T16:55:30.226397Z",
     "iopub.status.busy": "2020-11-17T16:55:30.225603Z",
     "iopub.status.idle": "2020-11-17T16:55:32.736045Z",
     "shell.execute_reply": "2020-11-17T16:55:32.735393Z"
    },
    "papermill": {
     "duration": 2.61737,
     "end_time": "2020-11-17T16:55:32.736185",
     "exception": false,
     "start_time": "2020-11-17T16:55:30.118815",
     "status": "completed"
    },
    "tags": []
   },
   "outputs": [
    {
     "data": {
      "image/png": "[encoded data removed]",
      "text/plain": [
       "<Figure size 864x864 with 12 Axes>"
      ]
     },
     "metadata": {
      "needs_background": "light"
     },
     "output_type": "display_data"
    }
   ],
   "source": [
    "_ = train_data.hist(bins=30, figsize=(12,12), density=True)"
   ]
  },
  {
   "cell_type": "code",
   "execution_count": 26,
   "metadata": {
    "execution": {
     "iopub.execute_input": "2020-11-17T16:55:32.927714Z",
     "iopub.status.busy": "2020-11-17T16:55:32.926821Z",
     "iopub.status.idle": "2020-11-17T16:55:33.544188Z",
     "shell.execute_reply": "2020-11-17T16:55:33.543421Z"
    },
    "papermill": {
     "duration": 0.715076,
     "end_time": "2020-11-17T16:55:33.544317",
     "exception": false,
     "start_time": "2020-11-17T16:55:32.829241",
     "status": "completed"
    },
    "tags": []
   },
   "outputs": [
    {
     "data": {
      "text/plain": [
       "Text(0.5, 6.79999999999999, 'Independent variable')"
      ]
     },
     "execution_count": 26,
     "metadata": {},
     "output_type": "execute_result"
    },
    {
     "data": {
      "image/png": "[encoded data removed]",
      "text/plain": [
       "<Figure size 360x360 with 1 Axes>"
      ]
     },
     "metadata": {
      "needs_background": "light"
     },
     "output_type": "display_data"
    }
   ],
   "source": [
    "import seaborn as sns\n",
    "sns.lmplot(x=\"Age\", y=\"Survived\", data=train_data, order=1)\n",
    "plt.ylabel('Target')\n",
    "plt.xlabel('Independent variable')"
   ]
  },
  {
   "cell_type": "code",
   "execution_count": 27,
   "metadata": {
    "execution": {
     "iopub.execute_input": "2020-11-17T16:55:33.749914Z",
     "iopub.status.busy": "2020-11-17T16:55:33.748785Z",
     "iopub.status.idle": "2020-11-17T16:55:34.165854Z",
     "shell.execute_reply": "2020-11-17T16:55:34.165046Z"
    },
    "papermill": {
     "duration": 0.526199,
     "end_time": "2020-11-17T16:55:34.165990",
     "exception": false,
     "start_time": "2020-11-17T16:55:33.639791",
     "status": "completed"
    },
    "tags": []
   },
   "outputs": [
    {
     "data": {
      "text/plain": [
       "Text(0.5, 6.79999999999999, 'Independent variable')"
      ]
     },
     "execution_count": 27,
     "metadata": {},
     "output_type": "execute_result"
    },
    {
     "data": {
      "image/png": "[encoded data removed]",
      "text/plain": [
       "<Figure size 360x360 with 1 Axes>"
      ]
     },
     "metadata": {
      "needs_background": "light"
     },
     "output_type": "display_data"
    }
   ],
   "source": [
    "import seaborn as sns\n",
    "sns.lmplot(x=\"Fare\", y=\"Survived\", data=train_data, order=1)\n",
    "plt.ylabel('Target')\n",
    "plt.xlabel('Independent variable')"
   ]
  },
  {
   "cell_type": "markdown",
   "metadata": {
    "papermill": {
     "duration": 0.095933,
     "end_time": "2020-11-17T16:55:34.359759",
     "exception": false,
     "start_time": "2020-11-17T16:55:34.263826",
     "status": "completed"
    },
    "tags": []
   },
   "source": [
    "### Multivariate EDA"
   ]
  },
  {
   "cell_type": "code",
   "execution_count": 28,
   "metadata": {
    "execution": {
     "iopub.execute_input": "2020-11-17T16:55:34.557474Z",
     "iopub.status.busy": "2020-11-17T16:55:34.556659Z",
     "iopub.status.idle": "2020-11-17T16:55:37.162037Z",
     "shell.execute_reply": "2020-11-17T16:55:37.161264Z"
    },
    "papermill": {
     "duration": 2.706782,
     "end_time": "2020-11-17T16:55:37.162164",
     "exception": false,
     "start_time": "2020-11-17T16:55:34.455382",
     "status": "completed"
    },
    "tags": []
   },
   "outputs": [
    {
     "name": "stderr",
     "output_type": "stream",
     "text": [
      "/opt/conda/lib/python3.7/site-packages/seaborn/axisgrid.py:243: UserWarning: The `size` parameter has been renamed to `height`; please update your code.\n",
      "  warnings.warn(msg, UserWarning)\n"
     ]
    },
    {
     "data": {
      "image/png": "[encoded data removed]",
      "text/plain": [
       "<Figure size 548x540 with 6 Axes>"
      ]
     },
     "metadata": {
      "needs_background": "light"
     },
     "output_type": "display_data"
    }
   ],
   "source": [
    "# grid = sns.FacetGrid(train_df, col='Pclass', hue='Survived')\n",
    "grid = sns.FacetGrid(train_data, col='Survived', row='Pclass', size=2.5, aspect=1.5)\n",
    "grid.map(plt.hist, 'Age', alpha=1, bins=20)\n",
    "grid.add_legend();"
   ]
  },
  {
   "cell_type": "code",
   "execution_count": 29,
   "metadata": {
    "execution": {
     "iopub.execute_input": "2020-11-17T16:55:37.377064Z",
     "iopub.status.busy": "2020-11-17T16:55:37.375964Z",
     "iopub.status.idle": "2020-11-17T16:55:39.872247Z",
     "shell.execute_reply": "2020-11-17T16:55:39.871598Z"
    },
    "papermill": {
     "duration": 2.612094,
     "end_time": "2020-11-17T16:55:39.872374",
     "exception": false,
     "start_time": "2020-11-17T16:55:37.260280",
     "status": "completed"
    },
    "tags": []
   },
   "outputs": [
    {
     "name": "stderr",
     "output_type": "stream",
     "text": [
      "/opt/conda/lib/python3.7/site-packages/seaborn/axisgrid.py:243: UserWarning: The `size` parameter has been renamed to `height`; please update your code.\n",
      "  warnings.warn(msg, UserWarning)\n"
     ]
    },
    {
     "data": {
      "image/png": "[encoded data removed]",
      "text/plain": [
       "<Figure size 548x540 with 6 Axes>"
      ]
     },
     "metadata": {
      "needs_background": "light"
     },
     "output_type": "display_data"
    }
   ],
   "source": [
    "# grid = sns.FacetGrid(train_df, col='Pclass', hue='Survived')\n",
    "grid = sns.FacetGrid(train_data, col='Survived', row='Pclass', size=2.5, aspect=1.5)\n",
    "grid.map(plt.hist, 'Fare', alpha=1, bins=20)\n",
    "grid.add_legend();"
   ]
  },
  {
   "cell_type": "code",
   "execution_count": 30,
   "metadata": {
    "execution": {
     "iopub.execute_input": "2020-11-17T16:55:40.090067Z",
     "iopub.status.busy": "2020-11-17T16:55:40.085484Z",
     "iopub.status.idle": "2020-11-17T16:55:42.641919Z",
     "shell.execute_reply": "2020-11-17T16:55:42.641214Z"
    },
    "papermill": {
     "duration": 2.668554,
     "end_time": "2020-11-17T16:55:42.642061",
     "exception": false,
     "start_time": "2020-11-17T16:55:39.973507",
     "status": "completed"
    },
    "tags": []
   },
   "outputs": [
    {
     "name": "stderr",
     "output_type": "stream",
     "text": [
      "/opt/conda/lib/python3.7/site-packages/seaborn/axisgrid.py:243: UserWarning: The `size` parameter has been renamed to `height`; please update your code.\n",
      "  warnings.warn(msg, UserWarning)\n"
     ]
    },
    {
     "data": {
      "image/png": "[encoded data removed]",
      "text/plain": [
       "<Figure size 548x540 with 6 Axes>"
      ]
     },
     "metadata": {
      "needs_background": "light"
     },
     "output_type": "display_data"
    }
   ],
   "source": [
    "# grid = sns.FacetGrid(train_df, col='Pclass', hue='Survived')\n",
    "grid = sns.FacetGrid(train_data, col='Survived', row='Embarked', size=2.5, aspect=1.5)\n",
    "grid.map(plt.hist, 'Age', alpha=1, bins=20)\n",
    "grid.add_legend();"
   ]
  },
  {
   "cell_type": "code",
   "execution_count": 31,
   "metadata": {
    "execution": {
     "iopub.execute_input": "2020-11-17T16:55:42.875039Z",
     "iopub.status.busy": "2020-11-17T16:55:42.874208Z",
     "iopub.status.idle": "2020-11-17T16:55:45.588564Z",
     "shell.execute_reply": "2020-11-17T16:55:45.589273Z"
    },
    "papermill": {
     "duration": 2.839417,
     "end_time": "2020-11-17T16:55:45.589471",
     "exception": false,
     "start_time": "2020-11-17T16:55:42.750054",
     "status": "completed"
    },
    "tags": []
   },
   "outputs": [
    {
     "name": "stderr",
     "output_type": "stream",
     "text": [
      "/opt/conda/lib/python3.7/site-packages/seaborn/axisgrid.py:243: UserWarning: The `size` parameter has been renamed to `height`; please update your code.\n",
      "  warnings.warn(msg, UserWarning)\n"
     ]
    },
    {
     "data": {
      "image/png": "[encoded data removed]",
      "text/plain": [
       "<Figure size 548x540 with 6 Axes>"
      ]
     },
     "metadata": {
      "needs_background": "light"
     },
     "output_type": "display_data"
    }
   ],
   "source": [
    "# grid = sns.FacetGrid(train_df, col='Pclass', hue='Survived')\n",
    "grid = sns.FacetGrid(train_data, col='Survived', row='Embarked', size=2.5, aspect=1.5)\n",
    "grid.map(plt.hist, 'Fare', alpha=1, bins=20)\n",
    "grid.add_legend();"
   ]
  },
  {
   "cell_type": "code",
   "execution_count": 32,
   "metadata": {
    "execution": {
     "iopub.execute_input": "2020-11-17T16:55:45.806057Z",
     "iopub.status.busy": "2020-11-17T16:55:45.805229Z",
     "iopub.status.idle": "2020-11-17T16:55:47.045689Z",
     "shell.execute_reply": "2020-11-17T16:55:47.045055Z"
    },
    "papermill": {
     "duration": 1.355539,
     "end_time": "2020-11-17T16:55:47.045826",
     "exception": false,
     "start_time": "2020-11-17T16:55:45.690287",
     "status": "completed"
    },
    "tags": []
   },
   "outputs": [
    {
     "name": "stderr",
     "output_type": "stream",
     "text": [
      "/opt/conda/lib/python3.7/site-packages/seaborn/axisgrid.py:243: UserWarning: The `size` parameter has been renamed to `height`; please update your code.\n",
      "  warnings.warn(msg, UserWarning)\n",
      "/opt/conda/lib/python3.7/site-packages/seaborn/axisgrid.py:728: UserWarning: Using the barplot function without specifying `order` is likely to produce an incorrect plot.\n",
      "  warnings.warn(warning)\n"
     ]
    },
    {
     "data": {
      "text/plain": [
       "<seaborn.axisgrid.FacetGrid at 0x7f45cd3f45d0>"
      ]
     },
     "execution_count": 32,
     "metadata": {},
     "output_type": "execute_result"
    },
    {
     "data": {
      "image/png": "[encoded data removed]",
      "text/plain": [
       "<Figure size 548x540 with 6 Axes>"
      ]
     },
     "metadata": {
      "needs_background": "light"
     },
     "output_type": "display_data"
    }
   ],
   "source": [
    "grid = sns.FacetGrid(train_data, row='Embarked', col='Survived', size=2.5, aspect=1.5)\n",
    "grid.map(sns.barplot, 'Sex', 'Age', alpha=1, ci=None)\n",
    "grid.add_legend()"
   ]
  },
  {
   "cell_type": "code",
   "execution_count": 33,
   "metadata": {
    "execution": {
     "iopub.execute_input": "2020-11-17T16:55:47.316004Z",
     "iopub.status.busy": "2020-11-17T16:55:47.313487Z",
     "iopub.status.idle": "2020-11-17T16:55:48.604825Z",
     "shell.execute_reply": "2020-11-17T16:55:48.603992Z"
    },
    "papermill": {
     "duration": 1.43723,
     "end_time": "2020-11-17T16:55:48.604960",
     "exception": false,
     "start_time": "2020-11-17T16:55:47.167730",
     "status": "completed"
    },
    "tags": []
   },
   "outputs": [
    {
     "name": "stderr",
     "output_type": "stream",
     "text": [
      "/opt/conda/lib/python3.7/site-packages/seaborn/axisgrid.py:243: UserWarning: The `size` parameter has been renamed to `height`; please update your code.\n",
      "  warnings.warn(msg, UserWarning)\n",
      "/opt/conda/lib/python3.7/site-packages/seaborn/axisgrid.py:728: UserWarning: Using the barplot function without specifying `order` is likely to produce an incorrect plot.\n",
      "  warnings.warn(warning)\n"
     ]
    },
    {
     "data": {
      "text/plain": [
       "<seaborn.axisgrid.FacetGrid at 0x7f45cd29ad90>"
      ]
     },
     "execution_count": 33,
     "metadata": {},
     "output_type": "execute_result"
    },
    {
     "data": {
      "image/png": "[encoded data removed]",
      "text/plain": [
       "<Figure size 548x540 with 6 Axes>"
      ]
     },
     "metadata": {
      "needs_background": "light"
     },
     "output_type": "display_data"
    }
   ],
   "source": [
    "grid = sns.FacetGrid(train_data, row='Embarked', col='Survived', size=2.5, aspect=1.5)\n",
    "grid.map(sns.barplot, 'Sex', 'Fare', alpha=1, ci=None)\n",
    "grid.add_legend()"
   ]
  },
  {
   "cell_type": "markdown",
   "metadata": {
    "papermill": {
     "duration": 0.107757,
     "end_time": "2020-11-17T16:55:48.820959",
     "exception": false,
     "start_time": "2020-11-17T16:55:48.713202",
     "status": "completed"
    },
    "tags": []
   },
   "source": [
    "### Identify Outliers\n",
    "\n",
    "#### boxplots and the inter-quartile range (IQR) proximity rule.\n",
    "##### According to the IQR proximity rule, a value is an outlier if it falls outside these boundaries:\n",
    "    Upper boundary = 75th quantile + (IQR * 1.5)\n",
    "    Lower boundary = 25th quantile - (IQR * 1.5)\n",
    "Here, IQR is given by the following equation:\n",
    "IQR = 75th quantile - 25th quantile"
   ]
  },
  {
   "cell_type": "code",
   "execution_count": 34,
   "metadata": {
    "execution": {
     "iopub.execute_input": "2020-11-17T16:55:49.063387Z",
     "iopub.status.busy": "2020-11-17T16:55:49.062602Z",
     "iopub.status.idle": "2020-11-17T16:55:49.189703Z",
     "shell.execute_reply": "2020-11-17T16:55:49.188904Z"
    },
    "papermill": {
     "duration": 0.257388,
     "end_time": "2020-11-17T16:55:49.189833",
     "exception": false,
     "start_time": "2020-11-17T16:55:48.932445",
     "status": "completed"
    },
    "tags": []
   },
   "outputs": [
    {
     "data": {
      "text/plain": [
       "Text(0.5, 1.0, 'Boxplot')"
      ]
     },
     "execution_count": 34,
     "metadata": {},
     "output_type": "execute_result"
    },
    {
     "data": {
      "image/png": "[encoded data removed]",
      "text/plain": [
       "<Figure size 432x288 with 1 Axes>"
      ]
     },
     "metadata": {
      "needs_background": "light"
     },
     "output_type": "display_data"
    }
   ],
   "source": [
    "sns.boxplot(y=train_data['Fare'])\n",
    "plt.title('Boxplot')"
   ]
  },
  {
   "cell_type": "code",
   "execution_count": 35,
   "metadata": {
    "execution": {
     "iopub.execute_input": "2020-11-17T16:55:49.433103Z",
     "iopub.status.busy": "2020-11-17T16:55:49.431979Z",
     "iopub.status.idle": "2020-11-17T16:55:49.574163Z",
     "shell.execute_reply": "2020-11-17T16:55:49.573357Z"
    },
    "papermill": {
     "duration": 0.272011,
     "end_time": "2020-11-17T16:55:49.574296",
     "exception": false,
     "start_time": "2020-11-17T16:55:49.302285",
     "status": "completed"
    },
    "tags": []
   },
   "outputs": [
    {
     "data": {
      "text/plain": [
       "Text(0.5, 1.0, 'Boxplot')"
      ]
     },
     "execution_count": 35,
     "metadata": {},
     "output_type": "execute_result"
    },
    {
     "data": {
      "image/png": "[encoded data removed]",
      "text/plain": [
       "<Figure size 432x288 with 1 Axes>"
      ]
     },
     "metadata": {
      "needs_background": "light"
     },
     "output_type": "display_data"
    }
   ],
   "source": [
    "sns.boxplot(y=train_data['Age'])\n",
    "plt.title('Boxplot')"
   ]
  },
  {
   "cell_type": "code",
   "execution_count": 36,
   "metadata": {
    "execution": {
     "iopub.execute_input": "2020-11-17T16:55:49.797389Z",
     "iopub.status.busy": "2020-11-17T16:55:49.796649Z",
     "iopub.status.idle": "2020-11-17T16:55:49.800256Z",
     "shell.execute_reply": "2020-11-17T16:55:49.799646Z"
    },
    "papermill": {
     "duration": 0.118195,
     "end_time": "2020-11-17T16:55:49.800382",
     "exception": false,
     "start_time": "2020-11-17T16:55:49.682187",
     "status": "completed"
    },
    "tags": []
   },
   "outputs": [],
   "source": [
    "def find_boundaries(df, variable, distance):\n",
    "    IQR = df[variable].quantile(0.75) - df[variable].quantile(0.25)\n",
    "    lower_boundary = df[variable].quantile(0.25) - (IQR * distance)\n",
    "    upper_boundary = df[variable].quantile(0.75) + (IQR * distance)\n",
    "    return upper_boundary, lower_boundary"
   ]
  },
  {
   "cell_type": "code",
   "execution_count": 37,
   "metadata": {
    "execution": {
     "iopub.execute_input": "2020-11-17T16:55:50.030691Z",
     "iopub.status.busy": "2020-11-17T16:55:50.029498Z",
     "iopub.status.idle": "2020-11-17T16:55:50.040035Z",
     "shell.execute_reply": "2020-11-17T16:55:50.039270Z"
    },
    "papermill": {
     "duration": 0.131137,
     "end_time": "2020-11-17T16:55:50.040164",
     "exception": false,
     "start_time": "2020-11-17T16:55:49.909027",
     "status": "completed"
    },
    "tags": []
   },
   "outputs": [
    {
     "data": {
      "text/plain": [
       "(64.8125, -6.6875)"
      ]
     },
     "execution_count": 37,
     "metadata": {},
     "output_type": "execute_result"
    }
   ],
   "source": [
    "upper_boundary, lower_boundary = find_boundaries(train_data, 'Age', 1.5)\n",
    "upper_boundary, lower_boundary"
   ]
  },
  {
   "cell_type": "code",
   "execution_count": 38,
   "metadata": {
    "execution": {
     "iopub.execute_input": "2020-11-17T16:55:50.274764Z",
     "iopub.status.busy": "2020-11-17T16:55:50.269866Z",
     "iopub.status.idle": "2020-11-17T16:55:50.316609Z",
     "shell.execute_reply": "2020-11-17T16:55:50.315964Z"
    },
    "papermill": {
     "duration": 0.165606,
     "end_time": "2020-11-17T16:55:50.316755",
     "exception": false,
     "start_time": "2020-11-17T16:55:50.151149",
     "status": "completed"
    },
    "tags": []
   },
   "outputs": [
    {
     "data": {
      "text/html": [
       "<div>\n",
       "<style scoped>\n",
       "    .dataframe tbody tr th:only-of-type {\n",
       "        vertical-align: middle;\n",
       "    }\n",
       "\n",
       "    .dataframe tbody tr th {\n",
       "        vertical-align: top;\n",
       "    }\n",
       "\n",
       "    .dataframe thead th {\n",
       "        text-align: right;\n",
       "    }\n",
       "</style>\n",
       "<table border=\"1\" class=\"dataframe\">\n",
       "  <thead>\n",
       "    <tr style=\"text-align: right;\">\n",
       "      <th></th>\n",
       "      <th>PassengerId</th>\n",
       "      <th>Survived</th>\n",
       "      <th>Pclass</th>\n",
       "      <th>Age</th>\n",
       "      <th>SibSp</th>\n",
       "      <th>Parch</th>\n",
       "      <th>Fare</th>\n",
       "      <th>is_male</th>\n",
       "      <th>Embarked_S</th>\n",
       "      <th>Embarked_C</th>\n",
       "      <th>FamilySize</th>\n",
       "    </tr>\n",
       "  </thead>\n",
       "  <tbody>\n",
       "    <tr>\n",
       "      <th>count</th>\n",
       "      <td>891.000000</td>\n",
       "      <td>891.000000</td>\n",
       "      <td>891.000000</td>\n",
       "      <td>714.000000</td>\n",
       "      <td>891.000000</td>\n",
       "      <td>891.000000</td>\n",
       "      <td>891.000000</td>\n",
       "      <td>891.000000</td>\n",
       "      <td>891.000000</td>\n",
       "      <td>891.000000</td>\n",
       "      <td>891.000000</td>\n",
       "    </tr>\n",
       "    <tr>\n",
       "      <th>mean</th>\n",
       "      <td>446.000000</td>\n",
       "      <td>0.383838</td>\n",
       "      <td>2.308642</td>\n",
       "      <td>29.699118</td>\n",
       "      <td>0.523008</td>\n",
       "      <td>0.381594</td>\n",
       "      <td>32.204208</td>\n",
       "      <td>0.647587</td>\n",
       "      <td>0.722783</td>\n",
       "      <td>0.188552</td>\n",
       "      <td>1.904602</td>\n",
       "    </tr>\n",
       "    <tr>\n",
       "      <th>std</th>\n",
       "      <td>257.353842</td>\n",
       "      <td>0.486592</td>\n",
       "      <td>0.836071</td>\n",
       "      <td>14.526497</td>\n",
       "      <td>1.102743</td>\n",
       "      <td>0.806057</td>\n",
       "      <td>49.693429</td>\n",
       "      <td>0.477990</td>\n",
       "      <td>0.447876</td>\n",
       "      <td>0.391372</td>\n",
       "      <td>1.613459</td>\n",
       "    </tr>\n",
       "    <tr>\n",
       "      <th>min</th>\n",
       "      <td>1.000000</td>\n",
       "      <td>0.000000</td>\n",
       "      <td>1.000000</td>\n",
       "      <td>0.420000</td>\n",
       "      <td>0.000000</td>\n",
       "      <td>0.000000</td>\n",
       "      <td>0.000000</td>\n",
       "      <td>0.000000</td>\n",
       "      <td>0.000000</td>\n",
       "      <td>0.000000</td>\n",
       "      <td>1.000000</td>\n",
       "    </tr>\n",
       "    <tr>\n",
       "      <th>25%</th>\n",
       "      <td>223.500000</td>\n",
       "      <td>0.000000</td>\n",
       "      <td>2.000000</td>\n",
       "      <td>20.125000</td>\n",
       "      <td>0.000000</td>\n",
       "      <td>0.000000</td>\n",
       "      <td>7.910400</td>\n",
       "      <td>0.000000</td>\n",
       "      <td>0.000000</td>\n",
       "      <td>0.000000</td>\n",
       "      <td>1.000000</td>\n",
       "    </tr>\n",
       "    <tr>\n",
       "      <th>50%</th>\n",
       "      <td>446.000000</td>\n",
       "      <td>0.000000</td>\n",
       "      <td>3.000000</td>\n",
       "      <td>28.000000</td>\n",
       "      <td>0.000000</td>\n",
       "      <td>0.000000</td>\n",
       "      <td>14.454200</td>\n",
       "      <td>1.000000</td>\n",
       "      <td>1.000000</td>\n",
       "      <td>0.000000</td>\n",
       "      <td>1.000000</td>\n",
       "    </tr>\n",
       "    <tr>\n",
       "      <th>75%</th>\n",
       "      <td>668.500000</td>\n",
       "      <td>1.000000</td>\n",
       "      <td>3.000000</td>\n",
       "      <td>38.000000</td>\n",
       "      <td>1.000000</td>\n",
       "      <td>0.000000</td>\n",
       "      <td>31.000000</td>\n",
       "      <td>1.000000</td>\n",
       "      <td>1.000000</td>\n",
       "      <td>0.000000</td>\n",
       "      <td>2.000000</td>\n",
       "    </tr>\n",
       "    <tr>\n",
       "      <th>max</th>\n",
       "      <td>891.000000</td>\n",
       "      <td>1.000000</td>\n",
       "      <td>3.000000</td>\n",
       "      <td>80.000000</td>\n",
       "      <td>8.000000</td>\n",
       "      <td>6.000000</td>\n",
       "      <td>512.329200</td>\n",
       "      <td>1.000000</td>\n",
       "      <td>1.000000</td>\n",
       "      <td>1.000000</td>\n",
       "      <td>11.000000</td>\n",
       "    </tr>\n",
       "  </tbody>\n",
       "</table>\n",
       "</div>"
      ],
      "text/plain": [
       "       PassengerId    Survived      Pclass         Age       SibSp  \\\n",
       "count   891.000000  891.000000  891.000000  714.000000  891.000000   \n",
       "mean    446.000000    0.383838    2.308642   29.699118    0.523008   \n",
       "std     257.353842    0.486592    0.836071   14.526497    1.102743   \n",
       "min       1.000000    0.000000    1.000000    0.420000    0.000000   \n",
       "25%     223.500000    0.000000    2.000000   20.125000    0.000000   \n",
       "50%     446.000000    0.000000    3.000000   28.000000    0.000000   \n",
       "75%     668.500000    1.000000    3.000000   38.000000    1.000000   \n",
       "max     891.000000    1.000000    3.000000   80.000000    8.000000   \n",
       "\n",
       "            Parch        Fare     is_male  Embarked_S  Embarked_C  FamilySize  \n",
       "count  891.000000  891.000000  891.000000  891.000000  891.000000  891.000000  \n",
       "mean     0.381594   32.204208    0.647587    0.722783    0.188552    1.904602  \n",
       "std      0.806057   49.693429    0.477990    0.447876    0.391372    1.613459  \n",
       "min      0.000000    0.000000    0.000000    0.000000    0.000000    1.000000  \n",
       "25%      0.000000    7.910400    0.000000    0.000000    0.000000    1.000000  \n",
       "50%      0.000000   14.454200    1.000000    1.000000    0.000000    1.000000  \n",
       "75%      0.000000   31.000000    1.000000    1.000000    0.000000    2.000000  \n",
       "max      6.000000  512.329200    1.000000    1.000000    1.000000   11.000000  "
      ]
     },
     "execution_count": 38,
     "metadata": {},
     "output_type": "execute_result"
    }
   ],
   "source": [
    "train_data.describe()"
   ]
  },
  {
   "cell_type": "markdown",
   "metadata": {
    "papermill": {
     "duration": 0.110549,
     "end_time": "2020-11-17T16:55:50.542597",
     "exception": false,
     "start_time": "2020-11-17T16:55:50.432048",
     "status": "completed"
    },
    "tags": []
   },
   "source": [
    "### Correlation"
   ]
  },
  {
   "cell_type": "code",
   "execution_count": 39,
   "metadata": {
    "execution": {
     "iopub.execute_input": "2020-11-17T16:55:50.786032Z",
     "iopub.status.busy": "2020-11-17T16:55:50.777337Z",
     "iopub.status.idle": "2020-11-17T16:55:51.055950Z",
     "shell.execute_reply": "2020-11-17T16:55:51.055147Z"
    },
    "papermill": {
     "duration": 0.402241,
     "end_time": "2020-11-17T16:55:51.056092",
     "exception": false,
     "start_time": "2020-11-17T16:55:50.653851",
     "status": "completed"
    },
    "tags": []
   },
   "outputs": [
    {
     "data": {
      "image/png": "[encoded data removed]",
      "text/plain": [
       "<Figure size 432x288 with 2 Axes>"
      ]
     },
     "metadata": {
      "needs_background": "light"
     },
     "output_type": "display_data"
    }
   ],
   "source": [
    "list1 =[\"SibSp\", \"Parch\", \"Age\", \"Fare\", \"Survived\"]\n",
    "sns.heatmap(train_data[list1].corr(), annot = True, fmt = \".2f\")\n",
    "plt.show()"
   ]
  },
  {
   "cell_type": "code",
   "execution_count": 40,
   "metadata": {
    "execution": {
     "iopub.execute_input": "2020-11-17T16:55:51.293024Z",
     "iopub.status.busy": "2020-11-17T16:55:51.292222Z",
     "iopub.status.idle": "2020-11-17T16:55:51.613642Z",
     "shell.execute_reply": "2020-11-17T16:55:51.612908Z"
    },
    "papermill": {
     "duration": 0.441866,
     "end_time": "2020-11-17T16:55:51.613779",
     "exception": false,
     "start_time": "2020-11-17T16:55:51.171913",
     "status": "completed"
    },
    "tags": []
   },
   "outputs": [
    {
     "name": "stderr",
     "output_type": "stream",
     "text": [
      "/opt/conda/lib/python3.7/site-packages/seaborn/categorical.py:3669: UserWarning: The `factorplot` function has been renamed to `catplot`. The original name will be removed in a future release. Please update your code. Note that the default `kind` in `factorplot` (`'point'`) has changed `'strip'` in `catplot`.\n",
      "  warnings.warn(msg)\n",
      "/opt/conda/lib/python3.7/site-packages/seaborn/categorical.py:3675: UserWarning: The `size` parameter has been renamed to `height`; please update your code.\n",
      "  warnings.warn(msg, UserWarning)\n"
     ]
    },
    {
     "data": {
      "image/png": "[encoded data removed]",
      "text/plain": [
       "<Figure size 432x432 with 1 Axes>"
      ]
     },
     "metadata": {
      "needs_background": "light"
     },
     "output_type": "display_data"
    }
   ],
   "source": [
    "g = sns.factorplot(x = \"Pclass\", y = \"Survived\", data = train_data, kind = \"bar\", size = 6)\n",
    "g.set_ylabels(\"Survived Probability\")\n",
    "plt.show()"
   ]
  },
  {
   "cell_type": "code",
   "execution_count": 41,
   "metadata": {
    "execution": {
     "iopub.execute_input": "2020-11-17T16:55:51.850824Z",
     "iopub.status.busy": "2020-11-17T16:55:51.849663Z",
     "iopub.status.idle": "2020-11-17T16:55:52.301312Z",
     "shell.execute_reply": "2020-11-17T16:55:52.300568Z"
    },
    "papermill": {
     "duration": 0.575034,
     "end_time": "2020-11-17T16:55:52.301441",
     "exception": false,
     "start_time": "2020-11-17T16:55:51.726407",
     "status": "completed"
    },
    "tags": []
   },
   "outputs": [
    {
     "data": {
      "image/png": "[encoded data removed]",
      "text/plain": [
       "<Figure size 432x432 with 1 Axes>"
      ]
     },
     "metadata": {
      "needs_background": "light"
     },
     "output_type": "display_data"
    }
   ],
   "source": [
    "g = sns.factorplot(x = \"Parch\", y = \"Survived\", data = train_data, kind = \"bar\", size = 6)\n",
    "g.set_ylabels(\"Survived Probability\")\n",
    "plt.show()"
   ]
  },
  {
   "cell_type": "markdown",
   "metadata": {
    "papermill": {
     "duration": 0.118535,
     "end_time": "2020-11-17T16:55:52.538227",
     "exception": false,
     "start_time": "2020-11-17T16:55:52.419692",
     "status": "completed"
    },
    "tags": []
   },
   "source": [
    "## Missing Value Imputation"
   ]
  },
  {
   "cell_type": "markdown",
   "metadata": {
    "papermill": {
     "duration": 0.112569,
     "end_time": "2020-11-17T16:55:52.766381",
     "exception": false,
     "start_time": "2020-11-17T16:55:52.653812",
     "status": "completed"
    },
    "tags": []
   },
   "source": [
    "#### We have seen univariate imputation using mean, median, mode etc. Let's take a look at Multivariate imputation by chained equations(MICE) is a multiple imputation technique that models each variable with missing values as a function of the remaining variables and uses that estimate for imputation. MICE has the following basic steps:\n",
    "1. A simple univariate imputation is performed for every variable with missing data, for example, median imputation.\n",
    "2. One specific variable is selected, say, var_1, and the missing values are set back to missing.\n",
    "3. A model that’s used to predict var_1 is built based on the remaining variables in the dataset.\n",
    "4. The missing values of var_1 are replaced with the new estimates.\n",
    "5. Repeat step 2 to step 4 for each of the remaining variables.\n",
    "\n",
    "#### Once all the variables have been modeled based on the rest, a cycle of imputation is concluded. Step 2 to step 4 are performed multiple times, typically 10 times, and the imputation values after each round are retained. The idea is that, by the end of the cycles, the distribution of the imputation parameters should have converged."
   ]
  },
  {
   "cell_type": "code",
   "execution_count": 42,
   "metadata": {
    "execution": {
     "iopub.execute_input": "2020-11-17T16:55:53.006921Z",
     "iopub.status.busy": "2020-11-17T16:55:53.005862Z",
     "iopub.status.idle": "2020-11-17T16:55:53.026677Z",
     "shell.execute_reply": "2020-11-17T16:55:53.025848Z"
    },
    "papermill": {
     "duration": 0.14319,
     "end_time": "2020-11-17T16:55:53.026813",
     "exception": false,
     "start_time": "2020-11-17T16:55:52.883623",
     "status": "completed"
    },
    "tags": []
   },
   "outputs": [],
   "source": [
    "from sklearn.model_selection import train_test_split\n",
    "from sklearn.linear_model import BayesianRidge\n",
    "from sklearn.tree import DecisionTreeRegressor\n",
    "from sklearn.ensemble import ExtraTreesRegressor\n",
    "from sklearn.neighbors import KNeighborsRegressor\n",
    "from sklearn.linear_model import BayesianRidge\n",
    "from sklearn.experimental import enable_iterative_imputer\n",
    "from sklearn.impute import IterativeImputer"
   ]
  },
  {
   "cell_type": "code",
   "execution_count": 43,
   "metadata": {
    "execution": {
     "iopub.execute_input": "2020-11-17T16:55:53.266614Z",
     "iopub.status.busy": "2020-11-17T16:55:53.265724Z",
     "iopub.status.idle": "2020-11-17T16:55:53.273973Z",
     "shell.execute_reply": "2020-11-17T16:55:53.273297Z"
    },
    "papermill": {
     "duration": 0.131714,
     "end_time": "2020-11-17T16:55:53.274100",
     "exception": false,
     "start_time": "2020-11-17T16:55:53.142386",
     "status": "completed"
    },
    "tags": []
   },
   "outputs": [],
   "source": [
    "X_train, X_test, y_train, y_test = train_test_split(\n",
    "train_data.drop(['Name','Sex', 'Embarked', 'Ticket', 'PassengerId', 'Cabin','Survived'], axis=1), train_data['Survived'], test_size=0.3,\n",
    "random_state=0, stratify = train_data['Survived'])"
   ]
  },
  {
   "cell_type": "code",
   "execution_count": 44,
   "metadata": {
    "execution": {
     "iopub.execute_input": "2020-11-17T16:55:53.516838Z",
     "iopub.status.busy": "2020-11-17T16:55:53.515706Z",
     "iopub.status.idle": "2020-11-17T16:55:53.520570Z",
     "shell.execute_reply": "2020-11-17T16:55:53.519823Z"
    },
    "papermill": {
     "duration": 0.129273,
     "end_time": "2020-11-17T16:55:53.520697",
     "exception": false,
     "start_time": "2020-11-17T16:55:53.391424",
     "status": "completed"
    },
    "tags": []
   },
   "outputs": [
    {
     "data": {
      "text/plain": [
       "0.38362760834670945"
      ]
     },
     "execution_count": 44,
     "metadata": {},
     "output_type": "execute_result"
    }
   ],
   "source": [
    "y_train.mean()"
   ]
  },
  {
   "cell_type": "code",
   "execution_count": 45,
   "metadata": {
    "execution": {
     "iopub.execute_input": "2020-11-17T16:55:53.759460Z",
     "iopub.status.busy": "2020-11-17T16:55:53.758609Z",
     "iopub.status.idle": "2020-11-17T16:55:53.763910Z",
     "shell.execute_reply": "2020-11-17T16:55:53.763246Z"
    },
    "papermill": {
     "duration": 0.126161,
     "end_time": "2020-11-17T16:55:53.764049",
     "exception": false,
     "start_time": "2020-11-17T16:55:53.637888",
     "status": "completed"
    },
    "tags": []
   },
   "outputs": [
    {
     "data": {
      "text/plain": [
       "0.3843283582089552"
      ]
     },
     "execution_count": 45,
     "metadata": {},
     "output_type": "execute_result"
    }
   ],
   "source": [
    "y_test.mean()"
   ]
  },
  {
   "cell_type": "code",
   "execution_count": 46,
   "metadata": {
    "execution": {
     "iopub.execute_input": "2020-11-17T16:55:54.261470Z",
     "iopub.status.busy": "2020-11-17T16:55:54.260218Z",
     "iopub.status.idle": "2020-11-17T16:55:54.263969Z",
     "shell.execute_reply": "2020-11-17T16:55:54.262891Z"
    },
    "papermill": {
     "duration": 0.382286,
     "end_time": "2020-11-17T16:55:54.264164",
     "exception": false,
     "start_time": "2020-11-17T16:55:53.881878",
     "status": "completed"
    },
    "tags": []
   },
   "outputs": [],
   "source": [
    "imputer_bayes = IterativeImputer(\n",
    "estimator=BayesianRidge(),\n",
    "max_iter=10,\n",
    "random_state=0)\n",
    "\n",
    "imputer_knn = IterativeImputer(\n",
    "estimator=KNeighborsRegressor(n_neighbors=5),\n",
    "max_iter=10,\n",
    "random_state=0)\n",
    "\n",
    "imputer_DT = IterativeImputer(\n",
    "estimator=DecisionTreeRegressor(\n",
    "max_features='sqrt', random_state=0),\n",
    "max_iter=10,\n",
    "random_state=0)\n",
    "\n",
    "imputer_missForest = IterativeImputer(\n",
    "estimator=ExtraTreesRegressor(\n",
    "n_estimators=10, random_state=0),\n",
    "max_iter=10,\n",
    "random_state=0)"
   ]
  },
  {
   "cell_type": "code",
   "execution_count": 47,
   "metadata": {
    "execution": {
     "iopub.execute_input": "2020-11-17T16:55:54.513723Z",
     "iopub.status.busy": "2020-11-17T16:55:54.512515Z",
     "iopub.status.idle": "2020-11-17T16:55:55.013894Z",
     "shell.execute_reply": "2020-11-17T16:55:55.012980Z"
    },
    "papermill": {
     "duration": 0.627382,
     "end_time": "2020-11-17T16:55:55.014087",
     "exception": false,
     "start_time": "2020-11-17T16:55:54.386705",
     "status": "completed"
    },
    "tags": []
   },
   "outputs": [
    {
     "data": {
      "text/plain": [
       "IterativeImputer(estimator=ExtraTreesRegressor(n_estimators=10, random_state=0),\n",
       "                 random_state=0)"
      ]
     },
     "execution_count": 47,
     "metadata": {},
     "output_type": "execute_result"
    }
   ],
   "source": [
    "imputer_bayes.fit(X_train)\n",
    "imputer_knn.fit(X_train)\n",
    "imputer_DT.fit(X_train)\n",
    "imputer_missForest.fit(X_train)"
   ]
  },
  {
   "cell_type": "code",
   "execution_count": 48,
   "metadata": {
    "execution": {
     "iopub.execute_input": "2020-11-17T16:55:55.263229Z",
     "iopub.status.busy": "2020-11-17T16:55:55.261947Z",
     "iopub.status.idle": "2020-11-17T16:55:55.283743Z",
     "shell.execute_reply": "2020-11-17T16:55:55.282924Z"
    },
    "papermill": {
     "duration": 0.146384,
     "end_time": "2020-11-17T16:55:55.283875",
     "exception": false,
     "start_time": "2020-11-17T16:55:55.137491",
     "status": "completed"
    },
    "tags": []
   },
   "outputs": [],
   "source": [
    "X_train_bayes = imputer_bayes.transform(X_train)\n",
    "X_train_knn = imputer_knn.transform(X_train)\n",
    "X_train_DT = imputer_DT.transform(X_train)\n",
    "X_train_missForest = imputer_missForest.transform(X_train)"
   ]
  },
  {
   "cell_type": "code",
   "execution_count": 49,
   "metadata": {
    "execution": {
     "iopub.execute_input": "2020-11-17T16:55:55.526895Z",
     "iopub.status.busy": "2020-11-17T16:55:55.526081Z",
     "iopub.status.idle": "2020-11-17T16:55:55.530806Z",
     "shell.execute_reply": "2020-11-17T16:55:55.530056Z"
    },
    "papermill": {
     "duration": 0.129147,
     "end_time": "2020-11-17T16:55:55.530932",
     "exception": false,
     "start_time": "2020-11-17T16:55:55.401785",
     "status": "completed"
    },
    "tags": []
   },
   "outputs": [],
   "source": [
    "variables = train_data.columns\n",
    "predictors = [var for var in variables if var not in ['Name','Sex', 'Embarked', 'Ticket', 'PassengerId', 'Cabin', 'Survived']]\n",
    "X_train_bayes = pd.DataFrame(X_train_bayes, columns = predictors)\n",
    "X_train_knn = pd.DataFrame(X_train_knn, columns = predictors)\n",
    "X_train_DT = pd.DataFrame(X_train_DT, columns = predictors)\n",
    "X_train_missForest = pd.DataFrame(X_train_missForest, columns = predictors)"
   ]
  },
  {
   "cell_type": "code",
   "execution_count": 50,
   "metadata": {
    "execution": {
     "iopub.execute_input": "2020-11-17T16:55:55.780692Z",
     "iopub.status.busy": "2020-11-17T16:55:55.775932Z",
     "iopub.status.idle": "2020-11-17T16:55:56.254446Z",
     "shell.execute_reply": "2020-11-17T16:55:56.253606Z"
    },
    "papermill": {
     "duration": 0.60691,
     "end_time": "2020-11-17T16:55:56.254600",
     "exception": false,
     "start_time": "2020-11-17T16:55:55.647690",
     "status": "completed"
    },
    "tags": []
   },
   "outputs": [
    {
     "data": {
      "image/png": "[encoded data removed]",
      "text/plain": [
       "<Figure size 432x288 with 1 Axes>"
      ]
     },
     "metadata": {
      "needs_background": "light"
     },
     "output_type": "display_data"
    }
   ],
   "source": [
    "vis_column = 'Fare'\n",
    "fig = plt.figure()\n",
    "ax = fig.add_subplot(111)\n",
    "X_train[vis_column].plot(kind='kde', ax=ax, color='blue')\n",
    "X_train_bayes[vis_column].plot(kind='kde', ax=ax, color='green')\n",
    "X_train_knn[vis_column].plot(kind='kde', ax=ax, color='red')\n",
    "X_train_DT[vis_column].plot(kind='kde', ax=ax, color='black')\n",
    "X_train_missForest[vis_column].plot(kind='kde', ax=ax, color='orange')\n",
    "# add legends\n",
    "lines, labels = ax.get_legend_handles_labels()\n",
    "labels = [vis_column+' original', vis_column+' bayes', vis_column+' knn', vis_column+' Trees', vis_column+' missForest']\n",
    "ax.legend(lines, labels, loc='best')\n",
    "plt.show()"
   ]
  },
  {
   "cell_type": "code",
   "execution_count": 51,
   "metadata": {
    "execution": {
     "iopub.execute_input": "2020-11-17T16:55:56.533718Z",
     "iopub.status.busy": "2020-11-17T16:55:56.532502Z",
     "iopub.status.idle": "2020-11-17T16:55:56.966277Z",
     "shell.execute_reply": "2020-11-17T16:55:56.965298Z"
    },
    "papermill": {
     "duration": 0.586192,
     "end_time": "2020-11-17T16:55:56.966486",
     "exception": false,
     "start_time": "2020-11-17T16:55:56.380294",
     "status": "completed"
    },
    "tags": []
   },
   "outputs": [
    {
     "data": {
      "image/png": "[encoded data removed]",
      "text/plain": [
       "<Figure size 432x288 with 1 Axes>"
      ]
     },
     "metadata": {
      "needs_background": "light"
     },
     "output_type": "display_data"
    }
   ],
   "source": [
    "vis_column = 'Age'\n",
    "fig = plt.figure()\n",
    "ax = fig.add_subplot(111)\n",
    "X_train[vis_column].plot(kind='kde', ax=ax, color='blue')\n",
    "X_train_bayes[vis_column].plot(kind='kde', ax=ax, color='green')\n",
    "X_train_knn[vis_column].plot(kind='kde', ax=ax, color='red')\n",
    "X_train_DT[vis_column].plot(kind='kde', ax=ax, color='black')\n",
    "X_train_missForest[vis_column].plot(kind='kde', ax=ax, color='orange')\n",
    "# add legends\n",
    "lines, labels = ax.get_legend_handles_labels()\n",
    "labels = [vis_column+' original', vis_column+' bayes', vis_column+' knn', vis_column+' Trees', vis_column+' missForest']\n",
    "ax.legend(lines, labels, loc='best')\n",
    "plt.show()"
   ]
  },
  {
   "cell_type": "markdown",
   "metadata": {
    "papermill": {
     "duration": 0.13033,
     "end_time": "2020-11-17T16:55:57.235962",
     "exception": false,
     "start_time": "2020-11-17T16:55:57.105632",
     "status": "completed"
    },
    "tags": []
   },
   "source": [
    "##### The Decision Tree imputer seemed to be working because I think KNN is getting close to an overfit which it is prone to a lot of times."
   ]
  },
  {
   "cell_type": "code",
   "execution_count": 52,
   "metadata": {
    "execution": {
     "iopub.execute_input": "2020-11-17T16:55:57.494198Z",
     "iopub.status.busy": "2020-11-17T16:55:57.493405Z",
     "iopub.status.idle": "2020-11-17T16:55:57.500312Z",
     "shell.execute_reply": "2020-11-17T16:55:57.499368Z"
    },
    "papermill": {
     "duration": 0.135064,
     "end_time": "2020-11-17T16:55:57.500455",
     "exception": false,
     "start_time": "2020-11-17T16:55:57.365391",
     "status": "completed"
    },
    "tags": []
   },
   "outputs": [],
   "source": [
    "X_test_DT = imputer_DT.transform(X_test)\n",
    "X_test_DT = pd.DataFrame(X_test_DT, columns = predictors)"
   ]
  },
  {
   "cell_type": "markdown",
   "metadata": {
    "papermill": {
     "duration": 0.119997,
     "end_time": "2020-11-17T16:55:57.746242",
     "exception": false,
     "start_time": "2020-11-17T16:55:57.626245",
     "status": "completed"
    },
    "tags": []
   },
   "source": [
    "### Scaling"
   ]
  },
  {
   "cell_type": "markdown",
   "metadata": {
    "papermill": {
     "duration": 0.122804,
     "end_time": "2020-11-17T16:55:57.987366",
     "exception": false,
     "start_time": "2020-11-17T16:55:57.864562",
     "status": "completed"
    },
    "tags": []
   },
   "source": [
    "### When scaling variables to the median and quantiles, the median value is removed from the observations and the result is divided by the inter-quartile range (IQR). The IQR is the range between the 1st quartile and the 3rd quartile, or, in other words, the range between the 25th quantile and the 75th quantile.\n",
    "\n",
    "### This method is known as robust scaling because it produces more robust estimates for the center and value range of the variable, and is recommended if the data contains outliers."
   ]
  },
  {
   "cell_type": "code",
   "execution_count": 53,
   "metadata": {
    "execution": {
     "iopub.execute_input": "2020-11-17T16:55:58.241643Z",
     "iopub.status.busy": "2020-11-17T16:55:58.240835Z",
     "iopub.status.idle": "2020-11-17T16:55:58.254922Z",
     "shell.execute_reply": "2020-11-17T16:55:58.255611Z"
    },
    "papermill": {
     "duration": 0.146848,
     "end_time": "2020-11-17T16:55:58.255783",
     "exception": false,
     "start_time": "2020-11-17T16:55:58.108935",
     "status": "completed"
    },
    "tags": []
   },
   "outputs": [],
   "source": [
    "from sklearn.preprocessing import RobustScaler\n",
    "scaler = RobustScaler()\n",
    "scaler.fit(X_train_DT[['Age','Fare']])\n",
    "X_train_DT[['Age_scaled','Fare_scaled']] = scaler.transform(X_train_DT[['Age','Fare']])\n",
    "X_test_DT[['Age_scaled','Fare_scaled']] = scaler.transform(X_test_DT[['Age','Fare']])\n",
    "#X_test_scaled = scaler.transform(X_test)"
   ]
  },
  {
   "cell_type": "code",
   "execution_count": 54,
   "metadata": {
    "execution": {
     "iopub.execute_input": "2020-11-17T16:55:58.522012Z",
     "iopub.status.busy": "2020-11-17T16:55:58.521025Z",
     "iopub.status.idle": "2020-11-17T16:55:58.526208Z",
     "shell.execute_reply": "2020-11-17T16:55:58.525408Z"
    },
    "papermill": {
     "duration": 0.148609,
     "end_time": "2020-11-17T16:55:58.526339",
     "exception": false,
     "start_time": "2020-11-17T16:55:58.377730",
     "status": "completed"
    },
    "tags": []
   },
   "outputs": [
    {
     "data": {
      "text/html": [
       "<div>\n",
       "<style scoped>\n",
       "    .dataframe tbody tr th:only-of-type {\n",
       "        vertical-align: middle;\n",
       "    }\n",
       "\n",
       "    .dataframe tbody tr th {\n",
       "        vertical-align: top;\n",
       "    }\n",
       "\n",
       "    .dataframe thead th {\n",
       "        text-align: right;\n",
       "    }\n",
       "</style>\n",
       "<table border=\"1\" class=\"dataframe\">\n",
       "  <thead>\n",
       "    <tr style=\"text-align: right;\">\n",
       "      <th></th>\n",
       "      <th>Pclass</th>\n",
       "      <th>Age</th>\n",
       "      <th>SibSp</th>\n",
       "      <th>Parch</th>\n",
       "      <th>Fare</th>\n",
       "      <th>is_male</th>\n",
       "      <th>Embarked_S</th>\n",
       "      <th>Embarked_C</th>\n",
       "      <th>FamilySize</th>\n",
       "      <th>Age_scaled</th>\n",
       "      <th>Fare_scaled</th>\n",
       "    </tr>\n",
       "  </thead>\n",
       "  <tbody>\n",
       "    <tr>\n",
       "      <th>0</th>\n",
       "      <td>3.0</td>\n",
       "      <td>29.0</td>\n",
       "      <td>0.0</td>\n",
       "      <td>0.0</td>\n",
       "      <td>7.7750</td>\n",
       "      <td>1.0</td>\n",
       "      <td>1.0</td>\n",
       "      <td>0.0</td>\n",
       "      <td>1.0</td>\n",
       "      <td>0.066667</td>\n",
       "      <td>-0.291441</td>\n",
       "    </tr>\n",
       "    <tr>\n",
       "      <th>1</th>\n",
       "      <td>3.0</td>\n",
       "      <td>21.0</td>\n",
       "      <td>0.0</td>\n",
       "      <td>0.0</td>\n",
       "      <td>8.6625</td>\n",
       "      <td>1.0</td>\n",
       "      <td>1.0</td>\n",
       "      <td>0.0</td>\n",
       "      <td>1.0</td>\n",
       "      <td>-0.466667</td>\n",
       "      <td>-0.252979</td>\n",
       "    </tr>\n",
       "    <tr>\n",
       "      <th>2</th>\n",
       "      <td>3.0</td>\n",
       "      <td>27.0</td>\n",
       "      <td>1.0</td>\n",
       "      <td>0.0</td>\n",
       "      <td>16.1000</td>\n",
       "      <td>1.0</td>\n",
       "      <td>1.0</td>\n",
       "      <td>0.0</td>\n",
       "      <td>2.0</td>\n",
       "      <td>-0.066667</td>\n",
       "      <td>0.069339</td>\n",
       "    </tr>\n",
       "    <tr>\n",
       "      <th>3</th>\n",
       "      <td>2.0</td>\n",
       "      <td>17.0</td>\n",
       "      <td>0.0</td>\n",
       "      <td>0.0</td>\n",
       "      <td>12.0000</td>\n",
       "      <td>0.0</td>\n",
       "      <td>0.0</td>\n",
       "      <td>1.0</td>\n",
       "      <td>1.0</td>\n",
       "      <td>-0.733333</td>\n",
       "      <td>-0.108342</td>\n",
       "    </tr>\n",
       "    <tr>\n",
       "      <th>4</th>\n",
       "      <td>3.0</td>\n",
       "      <td>49.0</td>\n",
       "      <td>0.0</td>\n",
       "      <td>0.0</td>\n",
       "      <td>0.0000</td>\n",
       "      <td>1.0</td>\n",
       "      <td>1.0</td>\n",
       "      <td>0.0</td>\n",
       "      <td>1.0</td>\n",
       "      <td>1.400000</td>\n",
       "      <td>-0.628386</td>\n",
       "    </tr>\n",
       "  </tbody>\n",
       "</table>\n",
       "</div>"
      ],
      "text/plain": [
       "   Pclass   Age  SibSp  Parch     Fare  is_male  Embarked_S  Embarked_C  \\\n",
       "0     3.0  29.0    0.0    0.0   7.7750      1.0         1.0         0.0   \n",
       "1     3.0  21.0    0.0    0.0   8.6625      1.0         1.0         0.0   \n",
       "2     3.0  27.0    1.0    0.0  16.1000      1.0         1.0         0.0   \n",
       "3     2.0  17.0    0.0    0.0  12.0000      0.0         0.0         1.0   \n",
       "4     3.0  49.0    0.0    0.0   0.0000      1.0         1.0         0.0   \n",
       "\n",
       "   FamilySize  Age_scaled  Fare_scaled  \n",
       "0         1.0    0.066667    -0.291441  \n",
       "1         1.0   -0.466667    -0.252979  \n",
       "2         2.0   -0.066667     0.069339  \n",
       "3         1.0   -0.733333    -0.108342  \n",
       "4         1.0    1.400000    -0.628386  "
      ]
     },
     "execution_count": 54,
     "metadata": {},
     "output_type": "execute_result"
    }
   ],
   "source": [
    "X_train_DT.head()"
   ]
  },
  {
   "cell_type": "code",
   "execution_count": 55,
   "metadata": {
    "execution": {
     "iopub.execute_input": "2020-11-17T16:55:58.777116Z",
     "iopub.status.busy": "2020-11-17T16:55:58.776306Z",
     "iopub.status.idle": "2020-11-17T16:55:58.779424Z",
     "shell.execute_reply": "2020-11-17T16:55:58.779988Z"
    },
    "papermill": {
     "duration": 0.132784,
     "end_time": "2020-11-17T16:55:58.780163",
     "exception": false,
     "start_time": "2020-11-17T16:55:58.647379",
     "status": "completed"
    },
    "tags": []
   },
   "outputs": [],
   "source": [
    "# removed scaled features from latest version as distance based algos are not being used anymore\n",
    "X_train_DT.drop(['Age_scaled','Fare_scaled'], axis = 1, inplace = True)\n",
    "X_test_DT.drop(['Age_scaled','Fare_scaled'], axis = 1, inplace = True)"
   ]
  },
  {
   "cell_type": "code",
   "execution_count": 56,
   "metadata": {
    "execution": {
     "iopub.execute_input": "2020-11-17T16:55:59.043882Z",
     "iopub.status.busy": "2020-11-17T16:55:59.043069Z",
     "iopub.status.idle": "2020-11-17T16:55:59.063159Z",
     "shell.execute_reply": "2020-11-17T16:55:59.063740Z"
    },
    "papermill": {
     "duration": 0.164224,
     "end_time": "2020-11-17T16:55:59.063909",
     "exception": false,
     "start_time": "2020-11-17T16:55:58.899685",
     "status": "completed"
    },
    "tags": []
   },
   "outputs": [
    {
     "data": {
      "text/plain": [
       "79.85"
      ]
     },
     "execution_count": 56,
     "metadata": {},
     "output_type": "execute_result"
    }
   ],
   "source": [
    "gaussian = GaussianNB()\n",
    "gaussian.fit(X_train_DT, y_train)\n",
    "Y_pred = gaussian.predict(X_test_DT)\n",
    "acc_gaussian_train = round(gaussian.score(X_train_DT, y_train) * 100, 2)\n",
    "acc_gaussian_test = round(gaussian.score(X_test_DT, y_test) * 100, 2)\n",
    "acc_gaussian_test"
   ]
  },
  {
   "cell_type": "code",
   "execution_count": 57,
   "metadata": {
    "execution": {
     "iopub.execute_input": "2020-11-17T16:55:59.338938Z",
     "iopub.status.busy": "2020-11-17T16:55:59.337693Z",
     "iopub.status.idle": "2020-11-17T16:55:59.354853Z",
     "shell.execute_reply": "2020-11-17T16:55:59.353790Z"
    },
    "papermill": {
     "duration": 0.155891,
     "end_time": "2020-11-17T16:55:59.355047",
     "exception": false,
     "start_time": "2020-11-17T16:55:59.199156",
     "status": "completed"
    },
    "tags": []
   },
   "outputs": [
    {
     "data": {
      "text/plain": [
       "77.61"
      ]
     },
     "execution_count": 57,
     "metadata": {},
     "output_type": "execute_result"
    }
   ],
   "source": [
    "# Decision Tree\n",
    "\n",
    "decision_tree = DecisionTreeClassifier(random_state=0, max_depth = 3, min_samples_leaf= 50)\n",
    "decision_tree.fit(X_train_DT, y_train)\n",
    "Y_pred = decision_tree.predict(X_test_DT)\n",
    "acc_decision_tree = round(decision_tree.score(X_train_DT, y_train) * 100, 2)\n",
    "acc_decision_tree_train = round(decision_tree.score(X_train_DT, y_train) * 100, 2)\n",
    "acc_decision_tree_test = round(decision_tree.score(X_test_DT, y_test) * 100, 2)\n",
    "acc_decision_tree_test"
   ]
  },
  {
   "cell_type": "code",
   "execution_count": 58,
   "metadata": {
    "execution": {
     "iopub.execute_input": "2020-11-17T16:55:59.634920Z",
     "iopub.status.busy": "2020-11-17T16:55:59.633560Z",
     "iopub.status.idle": "2020-11-17T16:55:59.638069Z",
     "shell.execute_reply": "2020-11-17T16:55:59.637474Z"
    },
    "papermill": {
     "duration": 0.142538,
     "end_time": "2020-11-17T16:55:59.638198",
     "exception": false,
     "start_time": "2020-11-17T16:55:59.495660",
     "status": "completed"
    },
    "tags": []
   },
   "outputs": [
    {
     "data": {
      "text/html": [
       "<div>\n",
       "<style scoped>\n",
       "    .dataframe tbody tr th:only-of-type {\n",
       "        vertical-align: middle;\n",
       "    }\n",
       "\n",
       "    .dataframe tbody tr th {\n",
       "        vertical-align: top;\n",
       "    }\n",
       "\n",
       "    .dataframe thead th {\n",
       "        text-align: right;\n",
       "    }\n",
       "</style>\n",
       "<table border=\"1\" class=\"dataframe\">\n",
       "  <thead>\n",
       "    <tr style=\"text-align: right;\">\n",
       "      <th></th>\n",
       "      <th>feature</th>\n",
       "      <th>importance</th>\n",
       "    </tr>\n",
       "  </thead>\n",
       "  <tbody>\n",
       "    <tr>\n",
       "      <th>5</th>\n",
       "      <td>is_male</td>\n",
       "      <td>0.690807</td>\n",
       "    </tr>\n",
       "    <tr>\n",
       "      <th>0</th>\n",
       "      <td>Pclass</td>\n",
       "      <td>0.187193</td>\n",
       "    </tr>\n",
       "    <tr>\n",
       "      <th>4</th>\n",
       "      <td>Fare</td>\n",
       "      <td>0.072632</td>\n",
       "    </tr>\n",
       "    <tr>\n",
       "      <th>1</th>\n",
       "      <td>Age</td>\n",
       "      <td>0.049368</td>\n",
       "    </tr>\n",
       "    <tr>\n",
       "      <th>2</th>\n",
       "      <td>SibSp</td>\n",
       "      <td>0.000000</td>\n",
       "    </tr>\n",
       "    <tr>\n",
       "      <th>3</th>\n",
       "      <td>Parch</td>\n",
       "      <td>0.000000</td>\n",
       "    </tr>\n",
       "    <tr>\n",
       "      <th>6</th>\n",
       "      <td>Embarked_S</td>\n",
       "      <td>0.000000</td>\n",
       "    </tr>\n",
       "    <tr>\n",
       "      <th>7</th>\n",
       "      <td>Embarked_C</td>\n",
       "      <td>0.000000</td>\n",
       "    </tr>\n",
       "    <tr>\n",
       "      <th>8</th>\n",
       "      <td>FamilySize</td>\n",
       "      <td>0.000000</td>\n",
       "    </tr>\n",
       "  </tbody>\n",
       "</table>\n",
       "</div>"
      ],
      "text/plain": [
       "      feature  importance\n",
       "5     is_male    0.690807\n",
       "0      Pclass    0.187193\n",
       "4        Fare    0.072632\n",
       "1         Age    0.049368\n",
       "2       SibSp    0.000000\n",
       "3       Parch    0.000000\n",
       "6  Embarked_S    0.000000\n",
       "7  Embarked_C    0.000000\n",
       "8  FamilySize    0.000000"
      ]
     },
     "execution_count": 58,
     "metadata": {},
     "output_type": "execute_result"
    }
   ],
   "source": [
    "feature_imp = pd.DataFrame({'feature':X_train_DT.columns, 'importance':decision_tree.feature_importances_})\n",
    "feature_imp.sort_values(by = 'importance', ascending = False)"
   ]
  },
  {
   "cell_type": "code",
   "execution_count": 59,
   "metadata": {
    "execution": {
     "iopub.execute_input": "2020-11-17T16:55:59.900783Z",
     "iopub.status.busy": "2020-11-17T16:55:59.895174Z",
     "iopub.status.idle": "2020-11-17T16:56:00.183972Z",
     "shell.execute_reply": "2020-11-17T16:56:00.183184Z"
    },
    "papermill": {
     "duration": 0.421306,
     "end_time": "2020-11-17T16:56:00.184106",
     "exception": false,
     "start_time": "2020-11-17T16:55:59.762800",
     "status": "completed"
    },
    "tags": []
   },
   "outputs": [
    {
     "data": {
      "text/plain": [
       "82.84"
      ]
     },
     "execution_count": 59,
     "metadata": {},
     "output_type": "execute_result"
    }
   ],
   "source": [
    "# Random Forest\n",
    "\n",
    "random_for = RandomForestClassifier(random_state=0, max_depth= 4, min_weight_fraction_leaf= 0.001)\n",
    "random_for.fit(X_train_DT, y_train)\n",
    "Y_pred = random_for.predict(X_test_DT)\n",
    "acc_random_for_train = round(random_for.score(X_train_DT, y_train) * 100, 2)\n",
    "acc_random_for_test = round(random_for.score(X_test_DT, y_test) * 100, 2)\n",
    "acc_random_for_test"
   ]
  },
  {
   "cell_type": "code",
   "execution_count": 60,
   "metadata": {
    "execution": {
     "iopub.execute_input": "2020-11-17T16:56:00.453636Z",
     "iopub.status.busy": "2020-11-17T16:56:00.452669Z",
     "iopub.status.idle": "2020-11-17T16:56:00.466576Z",
     "shell.execute_reply": "2020-11-17T16:56:00.465785Z"
    },
    "papermill": {
     "duration": 0.159001,
     "end_time": "2020-11-17T16:56:00.466713",
     "exception": false,
     "start_time": "2020-11-17T16:56:00.307712",
     "status": "completed"
    },
    "tags": []
   },
   "outputs": [
    {
     "data": {
      "text/html": [
       "<div>\n",
       "<style scoped>\n",
       "    .dataframe tbody tr th:only-of-type {\n",
       "        vertical-align: middle;\n",
       "    }\n",
       "\n",
       "    .dataframe tbody tr th {\n",
       "        vertical-align: top;\n",
       "    }\n",
       "\n",
       "    .dataframe thead th {\n",
       "        text-align: right;\n",
       "    }\n",
       "</style>\n",
       "<table border=\"1\" class=\"dataframe\">\n",
       "  <thead>\n",
       "    <tr style=\"text-align: right;\">\n",
       "      <th></th>\n",
       "      <th>feature</th>\n",
       "      <th>importance</th>\n",
       "    </tr>\n",
       "  </thead>\n",
       "  <tbody>\n",
       "    <tr>\n",
       "      <th>5</th>\n",
       "      <td>is_male</td>\n",
       "      <td>0.426407</td>\n",
       "    </tr>\n",
       "    <tr>\n",
       "      <th>4</th>\n",
       "      <td>Fare</td>\n",
       "      <td>0.195839</td>\n",
       "    </tr>\n",
       "    <tr>\n",
       "      <th>0</th>\n",
       "      <td>Pclass</td>\n",
       "      <td>0.143755</td>\n",
       "    </tr>\n",
       "    <tr>\n",
       "      <th>1</th>\n",
       "      <td>Age</td>\n",
       "      <td>0.093200</td>\n",
       "    </tr>\n",
       "    <tr>\n",
       "      <th>8</th>\n",
       "      <td>FamilySize</td>\n",
       "      <td>0.061793</td>\n",
       "    </tr>\n",
       "    <tr>\n",
       "      <th>2</th>\n",
       "      <td>SibSp</td>\n",
       "      <td>0.032320</td>\n",
       "    </tr>\n",
       "    <tr>\n",
       "      <th>3</th>\n",
       "      <td>Parch</td>\n",
       "      <td>0.025589</td>\n",
       "    </tr>\n",
       "    <tr>\n",
       "      <th>6</th>\n",
       "      <td>Embarked_S</td>\n",
       "      <td>0.012438</td>\n",
       "    </tr>\n",
       "    <tr>\n",
       "      <th>7</th>\n",
       "      <td>Embarked_C</td>\n",
       "      <td>0.008659</td>\n",
       "    </tr>\n",
       "  </tbody>\n",
       "</table>\n",
       "</div>"
      ],
      "text/plain": [
       "      feature  importance\n",
       "5     is_male    0.426407\n",
       "4        Fare    0.195839\n",
       "0      Pclass    0.143755\n",
       "1         Age    0.093200\n",
       "8  FamilySize    0.061793\n",
       "2       SibSp    0.032320\n",
       "3       Parch    0.025589\n",
       "6  Embarked_S    0.012438\n",
       "7  Embarked_C    0.008659"
      ]
     },
     "execution_count": 60,
     "metadata": {},
     "output_type": "execute_result"
    }
   ],
   "source": [
    "feature_imp = pd.DataFrame({'feature':X_train_DT.columns, 'importance':random_for.feature_importances_})\n",
    "feature_imp.sort_values(by = 'importance', ascending = False)"
   ]
  },
  {
   "cell_type": "code",
   "execution_count": 61,
   "metadata": {
    "execution": {
     "iopub.execute_input": "2020-11-17T16:56:00.727684Z",
     "iopub.status.busy": "2020-11-17T16:56:00.726618Z",
     "iopub.status.idle": "2020-11-17T16:56:01.804552Z",
     "shell.execute_reply": "2020-11-17T16:56:01.803733Z"
    },
    "papermill": {
     "duration": 1.212676,
     "end_time": "2020-11-17T16:56:01.804691",
     "exception": false,
     "start_time": "2020-11-17T16:56:00.592015",
     "status": "completed"
    },
    "tags": []
   },
   "outputs": [
    {
     "data": {
      "text/plain": [
       "84.7"
      ]
     },
     "execution_count": 61,
     "metadata": {},
     "output_type": "execute_result"
    }
   ],
   "source": [
    "## GradientBoostingClassifier\n",
    "\n",
    "grad_boost = GradientBoostingClassifier(random_state=0, max_depth= 4, min_weight_fraction_leaf= 0.01, \n",
    "                                        learning_rate=0.01, n_estimators= 700)\n",
    "grad_boost.fit(X_train_DT, y_train)\n",
    "Y_pred = grad_boost.predict(X_test_DT)\n",
    "acc_grad_boost_train = round(grad_boost.score(X_train_DT, y_train) * 100, 2)\n",
    "acc_grad_boost_test = round(grad_boost.score(X_test_DT, y_test) * 100, 2)\n",
    "acc_grad_boost_test"
   ]
  },
  {
   "cell_type": "code",
   "execution_count": 62,
   "metadata": {
    "execution": {
     "iopub.execute_input": "2020-11-17T16:56:02.070641Z",
     "iopub.status.busy": "2020-11-17T16:56:02.069468Z",
     "iopub.status.idle": "2020-11-17T16:56:02.090081Z",
     "shell.execute_reply": "2020-11-17T16:56:02.090672Z"
    },
    "papermill": {
     "duration": 0.157745,
     "end_time": "2020-11-17T16:56:02.090845",
     "exception": false,
     "start_time": "2020-11-17T16:56:01.933100",
     "status": "completed"
    },
    "tags": []
   },
   "outputs": [
    {
     "data": {
      "text/html": [
       "<div>\n",
       "<style scoped>\n",
       "    .dataframe tbody tr th:only-of-type {\n",
       "        vertical-align: middle;\n",
       "    }\n",
       "\n",
       "    .dataframe tbody tr th {\n",
       "        vertical-align: top;\n",
       "    }\n",
       "\n",
       "    .dataframe thead th {\n",
       "        text-align: right;\n",
       "    }\n",
       "</style>\n",
       "<table border=\"1\" class=\"dataframe\">\n",
       "  <thead>\n",
       "    <tr style=\"text-align: right;\">\n",
       "      <th></th>\n",
       "      <th>feature</th>\n",
       "      <th>importance</th>\n",
       "    </tr>\n",
       "  </thead>\n",
       "  <tbody>\n",
       "    <tr>\n",
       "      <th>5</th>\n",
       "      <td>is_male</td>\n",
       "      <td>0.435370</td>\n",
       "    </tr>\n",
       "    <tr>\n",
       "      <th>4</th>\n",
       "      <td>Fare</td>\n",
       "      <td>0.199580</td>\n",
       "    </tr>\n",
       "    <tr>\n",
       "      <th>1</th>\n",
       "      <td>Age</td>\n",
       "      <td>0.167784</td>\n",
       "    </tr>\n",
       "    <tr>\n",
       "      <th>0</th>\n",
       "      <td>Pclass</td>\n",
       "      <td>0.121318</td>\n",
       "    </tr>\n",
       "    <tr>\n",
       "      <th>8</th>\n",
       "      <td>FamilySize</td>\n",
       "      <td>0.038812</td>\n",
       "    </tr>\n",
       "    <tr>\n",
       "      <th>2</th>\n",
       "      <td>SibSp</td>\n",
       "      <td>0.021342</td>\n",
       "    </tr>\n",
       "    <tr>\n",
       "      <th>7</th>\n",
       "      <td>Embarked_C</td>\n",
       "      <td>0.011031</td>\n",
       "    </tr>\n",
       "    <tr>\n",
       "      <th>3</th>\n",
       "      <td>Parch</td>\n",
       "      <td>0.002635</td>\n",
       "    </tr>\n",
       "    <tr>\n",
       "      <th>6</th>\n",
       "      <td>Embarked_S</td>\n",
       "      <td>0.002128</td>\n",
       "    </tr>\n",
       "  </tbody>\n",
       "</table>\n",
       "</div>"
      ],
      "text/plain": [
       "      feature  importance\n",
       "5     is_male    0.435370\n",
       "4        Fare    0.199580\n",
       "1         Age    0.167784\n",
       "0      Pclass    0.121318\n",
       "8  FamilySize    0.038812\n",
       "2       SibSp    0.021342\n",
       "7  Embarked_C    0.011031\n",
       "3       Parch    0.002635\n",
       "6  Embarked_S    0.002128"
      ]
     },
     "execution_count": 62,
     "metadata": {},
     "output_type": "execute_result"
    }
   ],
   "source": [
    "feature_imp = pd.DataFrame({'feature':X_train_DT.columns, 'importance':grad_boost.feature_importances_})\n",
    "feature_imp.sort_values(by = 'importance', ascending = False)"
   ]
  },
  {
   "cell_type": "code",
   "execution_count": 63,
   "metadata": {
    "execution": {
     "iopub.execute_input": "2020-11-17T16:56:02.362633Z",
     "iopub.status.busy": "2020-11-17T16:56:02.361643Z",
     "iopub.status.idle": "2020-11-17T16:56:02.365791Z",
     "shell.execute_reply": "2020-11-17T16:56:02.366382Z"
    },
    "papermill": {
     "duration": 0.14932,
     "end_time": "2020-11-17T16:56:02.366590",
     "exception": false,
     "start_time": "2020-11-17T16:56:02.217270",
     "status": "completed"
    },
    "tags": []
   },
   "outputs": [
    {
     "data": {
      "text/html": [
       "<div>\n",
       "<style scoped>\n",
       "    .dataframe tbody tr th:only-of-type {\n",
       "        vertical-align: middle;\n",
       "    }\n",
       "\n",
       "    .dataframe tbody tr th {\n",
       "        vertical-align: top;\n",
       "    }\n",
       "\n",
       "    .dataframe thead th {\n",
       "        text-align: right;\n",
       "    }\n",
       "</style>\n",
       "<table border=\"1\" class=\"dataframe\">\n",
       "  <thead>\n",
       "    <tr style=\"text-align: right;\">\n",
       "      <th></th>\n",
       "      <th>Model</th>\n",
       "      <th>Train Score</th>\n",
       "      <th>Test Score</th>\n",
       "    </tr>\n",
       "  </thead>\n",
       "  <tbody>\n",
       "    <tr>\n",
       "      <th>3</th>\n",
       "      <td>GradientBoostingClassifier</td>\n",
       "      <td>91.65</td>\n",
       "      <td>84.70</td>\n",
       "    </tr>\n",
       "    <tr>\n",
       "      <th>2</th>\n",
       "      <td>Random Forest</td>\n",
       "      <td>85.39</td>\n",
       "      <td>82.84</td>\n",
       "    </tr>\n",
       "    <tr>\n",
       "      <th>0</th>\n",
       "      <td>Naive Bayes</td>\n",
       "      <td>77.53</td>\n",
       "      <td>79.85</td>\n",
       "    </tr>\n",
       "    <tr>\n",
       "      <th>1</th>\n",
       "      <td>Decision Tree</td>\n",
       "      <td>79.13</td>\n",
       "      <td>77.61</td>\n",
       "    </tr>\n",
       "  </tbody>\n",
       "</table>\n",
       "</div>"
      ],
      "text/plain": [
       "                        Model  Train Score  Test Score\n",
       "3  GradientBoostingClassifier        91.65       84.70\n",
       "2               Random Forest        85.39       82.84\n",
       "0                 Naive Bayes        77.53       79.85\n",
       "1               Decision Tree        79.13       77.61"
      ]
     },
     "execution_count": 63,
     "metadata": {},
     "output_type": "execute_result"
    }
   ],
   "source": [
    "models = pd.DataFrame({\n",
    "    'Model': [  \n",
    "               'Naive Bayes',  \n",
    "              'Decision Tree', 'Random Forest', 'GradientBoostingClassifier'],\n",
    "    'Train Score': [ \n",
    "               acc_gaussian_train,  acc_decision_tree_train,acc_random_for_train, acc_grad_boost_train],\n",
    "    'Test Score': [ \n",
    "               acc_gaussian_test,  acc_decision_tree_test,acc_random_for_test, acc_grad_boost_test]})\n",
    "models.sort_values(by='Test Score', ascending=False)"
   ]
  },
  {
   "cell_type": "code",
   "execution_count": 64,
   "metadata": {
    "execution": {
     "iopub.execute_input": "2020-11-17T16:56:02.628009Z",
     "iopub.status.busy": "2020-11-17T16:56:02.627137Z",
     "iopub.status.idle": "2020-11-17T16:56:02.635524Z",
     "shell.execute_reply": "2020-11-17T16:56:02.636245Z"
    },
    "papermill": {
     "duration": 0.142991,
     "end_time": "2020-11-17T16:56:02.636426",
     "exception": false,
     "start_time": "2020-11-17T16:56:02.493435",
     "status": "completed"
    },
    "tags": []
   },
   "outputs": [],
   "source": [
    "test_data = pd.read_csv('../input/test.csv')"
   ]
  },
  {
   "cell_type": "code",
   "execution_count": 65,
   "metadata": {
    "execution": {
     "iopub.execute_input": "2020-11-17T16:56:02.902591Z",
     "iopub.status.busy": "2020-11-17T16:56:02.901770Z",
     "iopub.status.idle": "2020-11-17T16:56:02.916839Z",
     "shell.execute_reply": "2020-11-17T16:56:02.916123Z"
    },
    "papermill": {
     "duration": 0.155315,
     "end_time": "2020-11-17T16:56:02.916976",
     "exception": false,
     "start_time": "2020-11-17T16:56:02.761661",
     "status": "completed"
    },
    "tags": []
   },
   "outputs": [],
   "source": [
    "test_data['is_male'] = np.where(test_data.Sex == 'male', 1,0)\n",
    "test_data['Embarked_S'] = np.where(test_data.Embarked == 'S', 1,0)\n",
    "test_data['Embarked_C'] = np.where(test_data.Embarked == 'C', 1,0)\n",
    "\n",
    "test_data['FamilySize'] = test_data['SibSp'] + test_data['Parch'] + 1\n",
    "\n",
    "test_data_DT = imputer_DT.transform(test_data[predictors])\n",
    "test_data_DT = pd.DataFrame(test_data_DT, columns = predictors)\n",
    "\n",
    "test_data_DT[['Age_scaled','Fare_scaled']] = scaler.transform(test_data_DT[['Age','Fare']])\n",
    "#test_data_DT[['Age_scaled','Fare_scaled']] = scaler.transform(test_data_DT[['Age','Fare']])\n",
    "test_data_DT.drop(['Age_scaled','Fare_scaled'], axis = 1, inplace = True)"
   ]
  },
  {
   "cell_type": "code",
   "execution_count": 66,
   "metadata": {
    "execution": {
     "iopub.execute_input": "2020-11-17T16:56:03.188214Z",
     "iopub.status.busy": "2020-11-17T16:56:03.187070Z",
     "iopub.status.idle": "2020-11-17T16:56:04.411277Z",
     "shell.execute_reply": "2020-11-17T16:56:04.410596Z"
    },
    "papermill": {
     "duration": 1.36134,
     "end_time": "2020-11-17T16:56:04.411412",
     "exception": false,
     "start_time": "2020-11-17T16:56:03.050072",
     "status": "completed"
    },
    "tags": []
   },
   "outputs": [
    {
     "data": {
      "text/plain": [
       "GradientBoostingClassifier(learning_rate=0.01, max_depth=4,\n",
       "                           min_weight_fraction_leaf=0.01, n_estimators=700,\n",
       "                           random_state=0)"
      ]
     },
     "execution_count": 66,
     "metadata": {},
     "output_type": "execute_result"
    }
   ],
   "source": [
    "x_train_full = pd.concat([X_train_DT,X_test_DT])\n",
    "y_train_full = pd.concat([y_train,y_test])\n",
    "\n",
    "grad_boost.fit(x_train_full, y_train_full)"
   ]
  },
  {
   "cell_type": "code",
   "execution_count": 67,
   "metadata": {
    "execution": {
     "iopub.execute_input": "2020-11-17T16:56:04.682614Z",
     "iopub.status.busy": "2020-11-17T16:56:04.671591Z",
     "iopub.status.idle": "2020-11-17T16:56:04.686135Z",
     "shell.execute_reply": "2020-11-17T16:56:04.685459Z"
    },
    "papermill": {
     "duration": 0.147885,
     "end_time": "2020-11-17T16:56:04.686268",
     "exception": false,
     "start_time": "2020-11-17T16:56:04.538383",
     "status": "completed"
    },
    "tags": []
   },
   "outputs": [],
   "source": [
    "Y_pred = grad_boost.predict(test_data_DT[X_test_DT.columns])"
   ]
  },
  {
   "cell_type": "code",
   "execution_count": 68,
   "metadata": {
    "execution": {
     "iopub.execute_input": "2020-11-17T16:56:04.947954Z",
     "iopub.status.busy": "2020-11-17T16:56:04.947076Z",
     "iopub.status.idle": "2020-11-17T16:56:04.950879Z",
     "shell.execute_reply": "2020-11-17T16:56:04.951561Z"
    },
    "papermill": {
     "duration": 0.138025,
     "end_time": "2020-11-17T16:56:04.951801",
     "exception": false,
     "start_time": "2020-11-17T16:56:04.813776",
     "status": "completed"
    },
    "tags": []
   },
   "outputs": [
    {
     "data": {
      "text/plain": [
       "0.3277511961722488"
      ]
     },
     "execution_count": 68,
     "metadata": {},
     "output_type": "execute_result"
    }
   ],
   "source": [
    "Y_pred.mean()"
   ]
  },
  {
   "cell_type": "code",
   "execution_count": 69,
   "metadata": {
    "execution": {
     "iopub.execute_input": "2020-11-17T16:56:05.223739Z",
     "iopub.status.busy": "2020-11-17T16:56:05.222685Z",
     "iopub.status.idle": "2020-11-17T16:56:05.225823Z",
     "shell.execute_reply": "2020-11-17T16:56:05.225208Z"
    },
    "papermill": {
     "duration": 0.143007,
     "end_time": "2020-11-17T16:56:05.225978",
     "exception": false,
     "start_time": "2020-11-17T16:56:05.082971",
     "status": "completed"
    },
    "tags": []
   },
   "outputs": [],
   "source": [
    "submission = pd.DataFrame({\n",
    "        \"PassengerId\": test_data[\"PassengerId\"],\n",
    "        \"Survived\": Y_pred\n",
    "    })\n",
    "#submission.to_csv('submission.csv', index=False)"
   ]
  },
  {
   "cell_type": "markdown",
   "metadata": {
    "papermill": {
     "duration": 0.128144,
     "end_time": "2020-11-17T16:56:05.485802",
     "exception": false,
     "start_time": "2020-11-17T16:56:05.357658",
     "status": "completed"
    },
    "tags": []
   },
   "source": [
    "## Stacking\n",
    "###### This is the first time I am using this technique called stacking where predictions from another model are taken in a features for the final model. I am using a few randomly selected but less significant features for it."
   ]
  },
  {
   "cell_type": "code",
   "execution_count": 70,
   "metadata": {
    "execution": {
     "iopub.execute_input": "2020-11-17T16:56:05.758214Z",
     "iopub.status.busy": "2020-11-17T16:56:05.757186Z",
     "iopub.status.idle": "2020-11-17T16:56:06.075266Z",
     "shell.execute_reply": "2020-11-17T16:56:06.075871Z"
    },
    "papermill": {
     "duration": 0.459498,
     "end_time": "2020-11-17T16:56:06.076059",
     "exception": false,
     "start_time": "2020-11-17T16:56:05.616561",
     "status": "completed"
    },
    "tags": []
   },
   "outputs": [
    {
     "data": {
      "text/plain": [
       "69.4"
      ]
     },
     "execution_count": 70,
     "metadata": {},
     "output_type": "execute_result"
    }
   ],
   "source": [
    "sublist1 = ['Embarked_C',  'Parch', 'FamilySize']\n",
    "\n",
    "grad_boost_submodel1 = GradientBoostingClassifier(random_state=0, max_depth= 4, min_weight_fraction_leaf= 0.001, \n",
    "                                        n_estimators= 300)\n",
    "grad_boost_submodel1.fit(X_train_DT[sublist1], y_train)\n",
    "Y_pred = grad_boost_submodel1.predict(X_test_DT[sublist1])\n",
    "acc_grad_boost_submodel1_train = round(grad_boost_submodel1.score(X_train_DT[sublist1], y_train) * 100, 2)\n",
    "acc_grad_boost_submodel1_test = round(grad_boost_submodel1.score(X_test_DT[sublist1], y_test) * 100, 2)\n",
    "acc_grad_boost_submodel1_test"
   ]
  },
  {
   "cell_type": "code",
   "execution_count": 71,
   "metadata": {
    "execution": {
     "iopub.execute_input": "2020-11-17T16:56:06.356659Z",
     "iopub.status.busy": "2020-11-17T16:56:06.355505Z",
     "iopub.status.idle": "2020-11-17T16:56:06.362267Z",
     "shell.execute_reply": "2020-11-17T16:56:06.361012Z"
    },
    "papermill": {
     "duration": 0.151097,
     "end_time": "2020-11-17T16:56:06.362474",
     "exception": false,
     "start_time": "2020-11-17T16:56:06.211377",
     "status": "completed"
    },
    "tags": []
   },
   "outputs": [
    {
     "name": "stdout",
     "output_type": "stream",
     "text": [
      "68.54\n",
      "69.4\n"
     ]
    }
   ],
   "source": [
    "print(acc_grad_boost_submodel1_train)\n",
    "print(acc_grad_boost_submodel1_test)"
   ]
  },
  {
   "cell_type": "code",
   "execution_count": 72,
   "metadata": {
    "execution": {
     "iopub.execute_input": "2020-11-17T16:56:06.662606Z",
     "iopub.status.busy": "2020-11-17T16:56:06.659200Z",
     "iopub.status.idle": "2020-11-17T16:56:06.673910Z",
     "shell.execute_reply": "2020-11-17T16:56:06.673259Z"
    },
    "papermill": {
     "duration": 0.155578,
     "end_time": "2020-11-17T16:56:06.674056",
     "exception": false,
     "start_time": "2020-11-17T16:56:06.518478",
     "status": "completed"
    },
    "tags": []
   },
   "outputs": [],
   "source": [
    "X_train_DT['pred_submodel1'] = grad_boost_submodel1.predict(X_train_DT[sublist1])\n",
    "X_test_DT['pred_submodel1'] = grad_boost_submodel1.predict(X_test_DT[sublist1])"
   ]
  },
  {
   "cell_type": "code",
   "execution_count": 73,
   "metadata": {
    "execution": {
     "iopub.execute_input": "2020-11-17T16:56:06.949057Z",
     "iopub.status.busy": "2020-11-17T16:56:06.944520Z",
     "iopub.status.idle": "2020-11-17T16:56:08.024630Z",
     "shell.execute_reply": "2020-11-17T16:56:08.023964Z"
    },
    "papermill": {
     "duration": 1.221406,
     "end_time": "2020-11-17T16:56:08.024772",
     "exception": false,
     "start_time": "2020-11-17T16:56:06.803366",
     "status": "completed"
    },
    "tags": []
   },
   "outputs": [],
   "source": [
    "grad_boost_stacked = GradientBoostingClassifier(random_state=0, max_depth= 4, min_weight_fraction_leaf= 0.01, \n",
    "                                        learning_rate=0.01, n_estimators= 700)\n",
    "\n",
    "final_list = ['Pclass', 'Age', 'SibSp', 'Embarked_S', 'Fare', 'is_male', 'FamilySize', 'pred_submodel1']\n",
    "grad_boost_stacked.fit(X_train_DT[final_list], y_train)\n",
    "Y_pred = grad_boost_stacked.predict(X_test_DT[final_list])\n",
    "acc_grad_boost_stacked_train = round(grad_boost_stacked.score(X_train_DT[final_list], y_train) * 100, 2)\n",
    "acc_grad_boost_stacked_test = round(grad_boost_stacked.score(X_test_DT[final_list], y_test) * 100, 2)"
   ]
  },
  {
   "cell_type": "code",
   "execution_count": 74,
   "metadata": {
    "execution": {
     "iopub.execute_input": "2020-11-17T16:56:08.292621Z",
     "iopub.status.busy": "2020-11-17T16:56:08.291799Z",
     "iopub.status.idle": "2020-11-17T16:56:08.294983Z",
     "shell.execute_reply": "2020-11-17T16:56:08.295598Z"
    },
    "papermill": {
     "duration": 0.140967,
     "end_time": "2020-11-17T16:56:08.295761",
     "exception": false,
     "start_time": "2020-11-17T16:56:08.154794",
     "status": "completed"
    },
    "tags": []
   },
   "outputs": [
    {
     "name": "stdout",
     "output_type": "stream",
     "text": [
      "91.81\n",
      "83.96\n"
     ]
    }
   ],
   "source": [
    "print(acc_grad_boost_stacked_train)\n",
    "print(acc_grad_boost_stacked_test)"
   ]
  },
  {
   "cell_type": "code",
   "execution_count": 75,
   "metadata": {
    "execution": {
     "iopub.execute_input": "2020-11-17T16:56:08.567652Z",
     "iopub.status.busy": "2020-11-17T16:56:08.565730Z",
     "iopub.status.idle": "2020-11-17T16:56:08.586365Z",
     "shell.execute_reply": "2020-11-17T16:56:08.585732Z"
    },
    "papermill": {
     "duration": 0.158865,
     "end_time": "2020-11-17T16:56:08.586497",
     "exception": false,
     "start_time": "2020-11-17T16:56:08.427632",
     "status": "completed"
    },
    "tags": []
   },
   "outputs": [
    {
     "data": {
      "text/html": [
       "<div>\n",
       "<style scoped>\n",
       "    .dataframe tbody tr th:only-of-type {\n",
       "        vertical-align: middle;\n",
       "    }\n",
       "\n",
       "    .dataframe tbody tr th {\n",
       "        vertical-align: top;\n",
       "    }\n",
       "\n",
       "    .dataframe thead th {\n",
       "        text-align: right;\n",
       "    }\n",
       "</style>\n",
       "<table border=\"1\" class=\"dataframe\">\n",
       "  <thead>\n",
       "    <tr style=\"text-align: right;\">\n",
       "      <th></th>\n",
       "      <th>feature</th>\n",
       "      <th>importance</th>\n",
       "    </tr>\n",
       "  </thead>\n",
       "  <tbody>\n",
       "    <tr>\n",
       "      <th>5</th>\n",
       "      <td>is_male</td>\n",
       "      <td>0.429446</td>\n",
       "    </tr>\n",
       "    <tr>\n",
       "      <th>4</th>\n",
       "      <td>Fare</td>\n",
       "      <td>0.194880</td>\n",
       "    </tr>\n",
       "    <tr>\n",
       "      <th>1</th>\n",
       "      <td>Age</td>\n",
       "      <td>0.162741</td>\n",
       "    </tr>\n",
       "    <tr>\n",
       "      <th>0</th>\n",
       "      <td>Pclass</td>\n",
       "      <td>0.120743</td>\n",
       "    </tr>\n",
       "    <tr>\n",
       "      <th>7</th>\n",
       "      <td>pred_submodel1</td>\n",
       "      <td>0.046484</td>\n",
       "    </tr>\n",
       "    <tr>\n",
       "      <th>6</th>\n",
       "      <td>FamilySize</td>\n",
       "      <td>0.017262</td>\n",
       "    </tr>\n",
       "    <tr>\n",
       "      <th>2</th>\n",
       "      <td>SibSp</td>\n",
       "      <td>0.014837</td>\n",
       "    </tr>\n",
       "    <tr>\n",
       "      <th>3</th>\n",
       "      <td>Embarked_S</td>\n",
       "      <td>0.013606</td>\n",
       "    </tr>\n",
       "  </tbody>\n",
       "</table>\n",
       "</div>"
      ],
      "text/plain": [
       "          feature  importance\n",
       "5         is_male    0.429446\n",
       "4            Fare    0.194880\n",
       "1             Age    0.162741\n",
       "0          Pclass    0.120743\n",
       "7  pred_submodel1    0.046484\n",
       "6      FamilySize    0.017262\n",
       "2           SibSp    0.014837\n",
       "3      Embarked_S    0.013606"
      ]
     },
     "execution_count": 75,
     "metadata": {},
     "output_type": "execute_result"
    }
   ],
   "source": [
    "feature_imp = pd.DataFrame({'feature':X_train_DT[final_list].columns, 'importance':grad_boost_stacked.feature_importances_})\n",
    "feature_imp.sort_values(by = 'importance', ascending = False)"
   ]
  },
  {
   "cell_type": "code",
   "execution_count": 76,
   "metadata": {
    "execution": {
     "iopub.execute_input": "2020-11-17T16:56:08.854131Z",
     "iopub.status.busy": "2020-11-17T16:56:08.853341Z",
     "iopub.status.idle": "2020-11-17T16:56:08.858713Z",
     "shell.execute_reply": "2020-11-17T16:56:08.858021Z"
    },
    "papermill": {
     "duration": 0.141457,
     "end_time": "2020-11-17T16:56:08.858884",
     "exception": false,
     "start_time": "2020-11-17T16:56:08.717427",
     "status": "completed"
    },
    "tags": []
   },
   "outputs": [
    {
     "data": {
      "text/plain": [
       "Index(['Pclass', 'Age', 'SibSp', 'Parch', 'Fare', 'is_male', 'Embarked_S',\n",
       "       'Embarked_C', 'FamilySize', 'pred_submodel1'],\n",
       "      dtype='object')"
      ]
     },
     "execution_count": 76,
     "metadata": {},
     "output_type": "execute_result"
    }
   ],
   "source": [
    "X_train_DT.columns"
   ]
  },
  {
   "cell_type": "code",
   "execution_count": 77,
   "metadata": {
    "execution": {
     "iopub.execute_input": "2020-11-17T16:56:09.132523Z",
     "iopub.status.busy": "2020-11-17T16:56:09.131603Z",
     "iopub.status.idle": "2020-11-17T16:56:09.136780Z",
     "shell.execute_reply": "2020-11-17T16:56:09.136151Z"
    },
    "papermill": {
     "duration": 0.14755,
     "end_time": "2020-11-17T16:56:09.136918",
     "exception": false,
     "start_time": "2020-11-17T16:56:08.989368",
     "status": "completed"
    },
    "tags": []
   },
   "outputs": [],
   "source": [
    "test_data_DT['pred_submodel1'] = grad_boost_submodel1.predict(test_data_DT[sublist1])"
   ]
  },
  {
   "cell_type": "code",
   "execution_count": 78,
   "metadata": {
    "execution": {
     "iopub.execute_input": "2020-11-17T16:56:09.425143Z",
     "iopub.status.busy": "2020-11-17T16:56:09.424333Z",
     "iopub.status.idle": "2020-11-17T16:56:09.427209Z",
     "shell.execute_reply": "2020-11-17T16:56:09.427791Z"
    },
    "papermill": {
     "duration": 0.156184,
     "end_time": "2020-11-17T16:56:09.427961",
     "exception": false,
     "start_time": "2020-11-17T16:56:09.271777",
     "status": "completed"
    },
    "tags": []
   },
   "outputs": [],
   "source": [
    "Y_pred = grad_boost_stacked.predict(test_data_DT[final_list])"
   ]
  },
  {
   "cell_type": "code",
   "execution_count": 79,
   "metadata": {
    "execution": {
     "iopub.execute_input": "2020-11-17T16:56:09.706153Z",
     "iopub.status.busy": "2020-11-17T16:56:09.705106Z",
     "iopub.status.idle": "2020-11-17T16:56:10.029323Z",
     "shell.execute_reply": "2020-11-17T16:56:10.028698Z"
    },
    "papermill": {
     "duration": 0.467029,
     "end_time": "2020-11-17T16:56:10.029463",
     "exception": false,
     "start_time": "2020-11-17T16:56:09.562434",
     "status": "completed"
    },
    "tags": []
   },
   "outputs": [],
   "source": [
    "submission = pd.DataFrame({\n",
    "        \"PassengerId\": test_data[\"PassengerId\"],\n",
    "        \"Survived\": Y_pred\n",
    "    })\n",
    "submission.to_csv('submission.csv', index=False)"
   ]
  },
  {
   "cell_type": "markdown",
   "metadata": {
    "papermill": {
     "duration": 0.1326,
     "end_time": "2020-11-17T16:56:10.297272",
     "exception": false,
     "start_time": "2020-11-17T16:56:10.164672",
     "status": "completed"
    },
    "tags": []
   },
   "source": [
    "#### These two didn't do better than the individual GBM model that I used."
   ]
  }
 ],
 "metadata": {
  "kernelspec": {
   "display_name": "Python 3 (ipykernel)",
   "language": "python",
   "name": "python3"
  },
  "language_info": {
   "codemirror_mode": {
    "name": "ipython",
    "version": 3
   },
   "file_extension": ".py",
   "mimetype": "text/x-python",
   "name": "python",
   "nbconvert_exporter": "python",
   "pygments_lexer": "ipython3",
   "version": "3.7.6"
  },
  "papermill": {
   "duration": 55.493981,
   "end_time": "2020-11-17T16:56:10.545669",
   "environment_variables": {},
   "exception": null,
   "input_path": "__notebook__.ipynb",
   "output_path": "__notebook__.ipynb",
   "parameters": {},
   "start_time": "2020-11-17T16:55:15.051688",
   "version": "2.1.0"
  }
 },
 "nbformat": 4,
 "nbformat_minor": 4
}
